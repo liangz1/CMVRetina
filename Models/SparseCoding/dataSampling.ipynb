{
 "cells": [
  {
   "cell_type": "markdown",
   "metadata": {},
   "source": [
    "# Move the image into 2 class folders"
   ]
  },
  {
   "cell_type": "code",
   "execution_count": 21,
   "metadata": {
    "scrolled": true
   },
   "outputs": [
    {
     "name": "stdout",
     "output_type": "stream",
     "text": [
      "Column names are image, level\n",
      "max image size: 224\n"
     ]
    }
   ],
   "source": [
    "import shutil\n",
    "import csv\n",
    "import os\n",
    "import cv2\n",
    "\n",
    "label_dict = {}\n",
    "with open('trainLabels.csv', mode='r') as csv_file:\n",
    "    csv_reader = csv.DictReader(csv_file)\n",
    "    line_count = 0\n",
    "    for row in csv_reader:\n",
    "        if line_count == 0:\n",
    "            print(f'Column names are {\", \".join(row)}')\n",
    "            line_count += 1\n",
    "        label_dict[row['image']] = int(row['level'] != \"0\")\n",
    "        line_count += 1\n",
    "# print(label_dict)\n",
    "\n",
    "folder_name = {\n",
    "    0 : \"negative/\",\n",
    "    1 : \"positive/\"\n",
    "}\n",
    "directory_in_str = \"/Users/turbo_strong/Desktop/CMVR/image/CMVR/\"\n",
    "directory = os.fsencode(directory_in_str)\n",
    "\n",
    "maxImgSize = -1\n",
    "for file in os.listdir(directory):\n",
    "    filename = os.fsdecode(file)\n",
    "    if filename.endswith(\".jpeg\") or filename.endswith(\".tiff\"):\n",
    "        img = cv2.imread(directory_in_str + filename)\n",
    "        maxImgSize = max(maxImgSize, max(img.shape[:2]))\n",
    "        shutil.move(directory_in_str + filename, directory_in_str + folder_name[label_dict[filename.split('.')[0]]] + filename)\n",
    "print(\"max image size: \"+str(maxImgSize))"
   ]
  },
  {
   "cell_type": "markdown",
   "metadata": {},
   "source": [
    "# Split the \"positive\" class into 4 specific classes"
   ]
  },
  {
   "cell_type": "code",
   "execution_count": 4,
   "metadata": {},
   "outputs": [
    {
     "name": "stdout",
     "output_type": "stream",
     "text": [
      "Column names are image, level\n"
     ]
    }
   ],
   "source": [
    "import shutil\n",
    "import csv\n",
    "import os\n",
    "\n",
    "label_dict = {}\n",
    "with open('trainLabels.csv', mode='r') as csv_file:\n",
    "    csv_reader = csv.DictReader(csv_file)\n",
    "    line_count = 0\n",
    "    for row in csv_reader:\n",
    "        if line_count == 0:\n",
    "            print(f'Column names are {\", \".join(row)}')\n",
    "            line_count += 1\n",
    "        label_dict[row['image']] = row['level']\n",
    "        line_count += 1\n",
    "directory_in_str = \"/Users/turbo_strong/Desktop/CMVR/image/CMVR/positive/\"\n",
    "for file in os.listdir(os.fsencode(directory_in_str)):\n",
    "    filename = os.fsdecode(file)\n",
    "    if filename.endswith(\".jpeg\") or filename.endswith(\".tiff\"):\n",
    "#         if label_dict[filename[:-5]] == '0':\n",
    "#             continue\n",
    "        shutil.move(directory_in_str + filename, directory_in_str + label_dict[filename.split('.')[0]] + \"/\" + filename)"
   ]
  },
  {
   "cell_type": "markdown",
   "metadata": {},
   "source": [
    "# For balancing the dataset"
   ]
  },
  {
   "cell_type": "code",
   "execution_count": 6,
   "metadata": {},
   "outputs": [],
   "source": [
    "import shutil\n",
    "import random\n",
    "import os\n",
    "directory_in_str = \"/Users/turbo_strong/Desktop/CMVR/\"\n",
    "image_subfolder = \"image/CMVR/negative/\"\n",
    "mat_subfolder = \"data/CMVR/negative/\"\n",
    "directory = os.fsencode(directory_in_str + image_subfolder)\n",
    "num_to_remove = 647\n",
    "remove_list = []\n",
    "for file in os.listdir(directory):\n",
    "    filename = os.fsdecode(file)\n",
    "    if filename.endswith(\".jpeg\") or filename.endswith(\".tiff\"):\n",
    "        remove_list.append(filename)\n",
    "remove_list = random.sample(remove_list, num_to_remove)\n",
    "for filename in remove_list:\n",
    "    shutil.move(directory_in_str + image_subfolder + filename, directory_in_str + \"image/CMVR/\" + filename)\n",
    "    mat_filename = filename.replace(\".jpeg\", \".mat\").replace(\".tiff\", \".mat\")\n",
    "    shutil.move(directory_in_str + mat_subfolder + mat_filename, directory_in_str + \"data/CMVR/\" + mat_filename)"
   ]
  },
  {
   "cell_type": "markdown",
   "metadata": {},
   "source": [
    "# Ramdom sample a list of images"
   ]
  },
  {
   "cell_type": "code",
   "execution_count": 19,
   "metadata": {},
   "outputs": [
    {
     "name": "stdout",
     "output_type": "stream",
     "text": [
      "22819_right.tiff,508_right.tiff,24749_right.tiff,5819_right.tiff,17567_left.tiff,35107_right.tiff,29970_left.tiff,6740_left.tiff,7677_right.tiff,31275_right.tiff,40679_right.tiff,16085_right.tiff,33725_left.tiff,20659_left.tiff,18999_left.tiff,1396_left.tiff,27140_left.tiff,9741_left.tiff,30353_right.tiff,12214_right.tiff,34492_left.tiff,12842_left.tiff,24171_left.tiff,19591_left.tiff,28623_left.tiff,27152_left.tiff,4069_left.tiff,25449_left.tiff,20361_left.tiff,2132_right.tiff,35794_left.tiff,4471_left.tiff,12397_right.tiff,11916_left.tiff,2756_right.tiff,34539_left.tiff,40152_left.tiff,8132_left.tiff,14306_right.tiff,42413_left.tiff,14313_left.tiff,11776_right.tiff,12581_left.tiff,30419_right.tiff,23967_right.tiff,42_right.tiff,7910_left.tiff,10934_right.tiff,31044_left.tiff,18449_left.tiff,21609_right.tiff,14665_left.tiff,37730_right.tiff,24266_left.tiff,31722_left.tiff,26055_left.tiff,15340_left.tiff,5183_left.tiff,18601_right.tiff,29775_right.tiff,35428_left.tiff,9930_right.tiff,35767_left.tiff,26078_right.tiff,8087_right.tiff,23974_right.tiff,33928_left.tiff,40832_right.tiff,3697_left.tiff,17548_right.tiff,33983_right.tiff,40355_right.tiff,6631_left.tiff,29430_left.tiff,25832_right.tiff,43573_right.tiff,21972_left.tiff,23084_right.tiff,26462_right.tiff,12793_left.tiff,7460_left.tiff,15893_right.tiff,8683_left.tiff,5999_right.tiff,39757_right.tiff,14549_right.tiff,8091_right.tiff,5396_left.tiff,17606_left.tiff,4878_left.tiff,32070_left.tiff,37458_right.tiff,32901_left.tiff,23714_right.tiff,8319_right.tiff,44150_right.tiff,33639_left.tiff,41856_left.tiff,29596_right.tiff,10675_left.tiff,39033_right.tiff,24649_left.tiff,40877_right.tiff,31596_left.tiff,34469_right.tiff,34667_left.tiff,2447_right.tiff,22_right.tiff,5155_right.tiff,39574_left.tiff,13278_left.tiff,18807_right.tiff,33404_right.tiff,33272_right.tiff,39024_right.tiff,11378_right.tiff,29784_right.tiff,26836_right.tiff,41276_right.tiff,30600_left.tiff,38799_left.tiff,1678_right.tiff,7731_left.tiff,40296_left.tiff,27436_right.tiff,38513_right.tiff,28189_left.tiff,2108_left.tiff,26697_left.tiff,25364_right.tiff,41517_left.tiff,10262_left.tiff,34984_left.tiff,33255_left.tiff,5773_left.tiff,27510_left.tiff,28789_right.tiff,39618_left.tiff,17900_right.tiff,37345_left.tiff,27419_right.tiff,31712_right.tiff,1872_right.tiff,31067_left.tiff,997_left.tiff,42150_right.tiff,43045_left.tiff,14086_left.tiff,21813_right.tiff,19591_right.tiff,27686_left.tiff,18715_right.tiff,12907_left.tiff,37708_right.tiff,8187_right.tiff,36942_left.tiff,39238_right.tiff,37159_right.tiff,24257_right.tiff,17021_left.tiff,44029_left.tiff,37785_left.tiff,14989_right.tiff,29034_right.tiff,38356_left.tiff,22470_right.tiff,33400_right.tiff,15493_left.tiff,6022_right.tiff,9396_right.tiff,4175_left.tiff,20195_right.tiff,2860_left.tiff,31724_left.tiff,19462_right.tiff,5930_right.tiff,40468_left.tiff,41427_right.tiff,690_left.tiff,21985_right.tiff,18176_left.tiff,8711_right.tiff,11655_left.tiff,43169_right.tiff,24237_right.tiff,20115_left.tiff,31685_right.tiff,6879_left.tiff,15074_left.tiff,5049_left.tiff,6316_right.tiff,32758_right.tiff,42582_left.tiff,5083_right.tiff,17916_left.tiff,11930_left.tiff,26525_left.tiff,43998_right.tiff,25311_right.tiff,21888_right.tiff,42587_left.tiff,38303_right.tiff,38661_left.tiff,23249_left.tiff,37138_left.tiff,36_left.tiff,23832_right.tiff,17800_left.tiff,29466_right.tiff,9258_left.tiff,12496_right.tiff,12687_left.tiff,37364_right.tiff,23210_left.tiff,34117_right.tiff,13637_right.tiff,18447_left.tiff,20985_left.tiff,20424_left.tiff,15807_right.tiff,38134_left.tiff,38010_right.tiff,4064_left.tiff,28440_right.tiff,23696_left.tiff,29898_right.tiff,29755_right.tiff,3748_right.tiff,43157_right.tiff,5534_left.tiff,9271_right.tiff,20102_left.tiff,8132_right.tiff,40105_left.tiff,15154_left.tiff,27436_left.tiff,20326_right.tiff,14992_right.tiff,2357_left.tiff,42714_left.tiff,82_left.tiff,20161_right.tiff,15083_right.tiff,33706_left.tiff,23058_left.tiff,18756_left.tiff,16193_right.tiff,36979_left.tiff,41250_right.tiff,40694_left.tiff,1469_right.tiff,6467_left.tiff,37197_right.tiff,15325_right.tiff,12100_left.tiff,39462_left.tiff,24227_right.tiff,15453_left.tiff,7363_left.tiff,13454_right.tiff,18598_right.tiff,37929_right.tiff,39298_right.tiff,3224_left.tiff,17442_right.tiff,35973_right.tiff,13493_right.tiff,15383_left.tiff,37419_right.tiff,662_left.tiff,25699_left.tiff,15320_left.tiff,26103_left.tiff,2905_right.tiff,4658_right.tiff,36571_right.tiff,37979_left.tiff,11448_left.tiff,35496_right.tiff,9702_right.tiff,42428_right.tiff,16386_right.tiff,33719_right.tiff,37082_left.tiff,20090_left.tiff,26985_left.tiff,6624_right.tiff,25752_right.tiff,21714_left.tiff,983_left.tiff,15573_left.tiff,23280_right.tiff,23289_right.tiff,9570_right.tiff,29708_left.tiff,7093_left.tiff,17962_right.tiff,38753_left.tiff,21526_right.tiff,7342_left.tiff,5067_left.tiff,3808_right.tiff,2140_right.tiff,33484_left.tiff,37192_right.tiff,26721_left.tiff,41263_left.tiff,16139_left.tiff,7437_right.tiff,22881_right.tiff,32702_right.tiff,25679_right.tiff,27075_right.tiff,29960_left.tiff,26644_left.tiff,31910_left.tiff,21796_right.tiff,7232_left.tiff,6371_left.tiff,30930_right.tiff,30274_right.tiff,29793_right.tiff,11035_right.tiff,9785_right.tiff,21084_left.tiff,33334_left.tiff,26861_right.tiff,24993_right.tiff,1880_right.tiff,18643_right.tiff,11539_right.tiff,23065_right.tiff,21373_right.tiff,8234_left.tiff,4242_right.tiff,39733_right.tiff,40611_right.tiff,38877_left.tiff,37624_right.tiff,34752_left.tiff,24406_left.tiff,40965_left.tiff,13391_left.tiff,41324_left.tiff,78_left.tiff,16268_left.tiff,16927_right.tiff,11097_left.tiff,11968_left.tiff,35073_left.tiff,9752_left.tiff,8013_left.tiff,2356_left.tiff,33788_left.tiff,9975_left.tiff,27669_right.tiff,40905_left.tiff,114_left.tiff,28895_right.tiff,11393_left.tiff,17725_right.tiff,1732_right.tiff,38470_left.tiff,26509_left.tiff,5052_left.tiff,9156_right.tiff,9699_right.tiff,15274_right.tiff,6053_left.tiff,18261_right.tiff,37621_left.tiff,29454_left.tiff,10552_right.tiff,41588_left.tiff,29503_left.tiff,7828_left.tiff,7304_left.tiff,13621_left.tiff,29622_right.tiff,410_left.tiff,20529_left.tiff,31143_right.tiff,57_right.tiff,1348_right.tiff,7757_left.tiff,9764_left.tiff,32098_left.tiff,11889_right.tiff,25166_right.tiff,20533_right.tiff,2721_right.tiff,15397_left.tiff,28883_left.tiff,23836_left.tiff,28797_right.tiff,28675_right.tiff,7851_right.tiff,24147_left.tiff,26540_left.tiff,38175_right.tiff,24368_right.tiff,40030_left.tiff,21854_right.tiff,31196_right.tiff,1563_left.tiff,21708_left.tiff,26069_left.tiff,6348_right.tiff,10_right.tiff,5380_right.tiff,6638_right.tiff,35870_right.tiff,32031_left.tiff,34682_right.tiff,3124_right.tiff,3491_left.tiff,17843_right.tiff,24968_right.tiff,29390_right.tiff,16222_right.tiff,33642_left.tiff,1478_right.tiff,30109_left.tiff,24179_right.tiff,22048_left.tiff,3523_right.tiff,40643_left.tiff,37728_left.tiff,10242_right.tiff,37309_right.tiff,37647_left.tiff,41536_left.tiff,36134_right.tiff,3541_right.tiff,1624_left.tiff,5437_left.tiff,4624_left.tiff,2077_left.tiff,19864_right.tiff,26349_left.tiff,42649_left.tiff,40585_left.tiff,21961_left.tiff,27889_left.tiff,34221_left.tiff,24910_left.tiff,16388_left.tiff,14883_right.tiff,25_left.tiff,11607_left.tiff,34175_left.tiff,25438_left.tiff,2246_right.tiff,38555_left.tiff,42495_right.tiff,29135_right.tiff,22716_right.tiff,18724_left.tiff,12514_right.tiff,19464_left.tiff,40049_left.tiff,26344_right.tiff,36767_right.tiff,4155_left.tiff,179_right.tiff,24230_right.tiff,31452_left.tiff,398_left.tiff,35579_right.tiff,13976_left.tiff,1136_right.tiff,29621_right.tiff,34947_left.tiff,21935_left.tiff,22625_left.tiff,19414_right.tiff,26793_right.tiff,34338_right.tiff,42555_left.tiff,33501_right.tiff,10726_right.tiff,27710_right.tiff,34529_left.tiff,38714_right.tiff,41617_left.tiff,34578_left.tiff,20977_right.tiff,19327_right.tiff,40495_right.tiff,14130_right.tiff,15288_left.tiff,32459_left.tiff,10149_left.tiff,42651_right.tiff,10977_right.tiff,11610_left.tiff,13713_right.tiff,3759_right.tiff,1475_right.tiff,6259_right.tiff,22803_left.tiff,31541_left.tiff,15946_right.tiff,39700_left.tiff,24711_right.tiff,8244_left.tiff,8126_left.tiff,25265_left.tiff,11871_left.tiff,30519_right.tiff,27840_left.tiff,15320_right.tiff,10970_left.tiff,18486_right.tiff,18355_left.tiff,5205_right.tiff,23250_left.tiff,1206_right.tiff,11758_right.tiff,43996_right.tiff,21042_left.tiff,17011_left.tiff,15656_left.tiff,38402_right.tiff,12752_left.tiff,3307_left.tiff,21568_right.tiff,1267_left.tiff,40200_right.tiff,18908_left.tiff,38196_right.tiff,2558_left.tiff,13448_right.tiff,28661_right.tiff,13541_right.tiff,39424_left.tiff,14943_right.tiff,4936_right.tiff,40259_left.tiff,3022_right.tiff,34961_left.tiff,9590_left.tiff,9670_right.tiff,4851_left.tiff,22004_right.tiff,22227_left.tiff,43372_left.tiff,21896_right.tiff,30672_left.tiff,16828_right.tiff,37103_right.tiff,34701_left.tiff,23106_left.tiff,4658_left.tiff,13879_left.tiff,30983_right.tiff,18502_left.tiff,11888_left.tiff,4479_right.tiff,43935_left.tiff,31999_right.tiff,36713_right.tiff,6937_left.tiff,40273_left.tiff,10081_left.tiff,16732_right.tiff,35260_left.tiff,33173_right.tiff,857_left.tiff,19485_right.tiff,13832_right.tiff,2533_right.tiff,40922_left.tiff,44263_right.tiff,36042_right.tiff,15788_left.tiff,16561_right.tiff,18418_right.tiff,17475_right.tiff,23775_left.tiff,9942_left.tiff,29432_left.tiff,660_right.tiff,40048_right.tiff,26874_right.tiff,26064_right.tiff,5045_left.tiff,37389_left.tiff,19928_left.tiff,15954_right.tiff,3023_right.tiff,28967_left.tiff,17950_right.tiff,25141_left.tiff,35394_left.tiff,40232_right.tiff,36322_left.tiff,604_left.tiff,39184_left.tiff,39743_right.tiff,15304_left.tiff,38762_right.tiff,19915_right.tiff,1367_right.tiff,602_right.tiff,7274_right.tiff,1242_left.tiff,35417_left.tiff,11829_left.tiff,35808_right.tiff,37500_right.tiff,28972_right.tiff,23598_left.tiff,43779_right.tiff,25872_left.tiff,3104_right.tiff,35124_right.tiff,15450_right.tiff,13116_left.tiff,39869_left.tiff,14767_left.tiff,35052_left.tiff,33112_right.tiff,5387_left.tiff,37912_right.tiff,7798_left.tiff,2421_left.tiff,42405_left.tiff,41765_right.tiff,25039_left.tiff,5316_left.tiff,39154_right.tiff,33127_left.tiff,30089_right.tiff,31981_left.tiff,12628_left.tiff,11545_right.tiff,32978_left.tiff,41205_left.tiff,18976_right.tiff,15987_left.tiff,194_left.tiff,41192_right.tiff,12450_left.tiff,18527_right.tiff,6730_right.tiff,40582_left.tiff,23326_right.tiff,31929_right.tiff,9166_left.tiff,38980_left.tiff,26050_left.tiff,32062_right.tiff,11393_right.tiff,26786_right.tiff,19782_right.tiff,19180_right.tiff,2249_right.tiff,12687_right.tiff,7961_right.tiff,14716_right.tiff,33170_left.tiff,41658_left.tiff,18042_left.tiff,12759_left.tiff,19412_left.tiff,35085_right.tiff,18126_right.tiff,26655_left.tiff,22670_left.tiff,24962_right.tiff,1349_left.tiff,15758_left.tiff,36625_left.tiff,31409_right.tiff,11866_right.tiff,35125_right.tiff,33168_right.tiff,37460_right.tiff,38552_right.tiff,15801_left.tiff,2535_right.tiff,32420_right.tiff,16265_left.tiff,11956_left.tiff,39295_left.tiff,11121_right.tiff,28799_right.tiff,18665_left.tiff,22398_left.tiff,25855_left.tiff,7360_left.tiff,39139_left.tiff,21043_left.tiff,236_right.tiff,13854_left.tiff,23655_right.tiff,40339_right.tiff,30135_right.tiff,10220_right.tiff,7579_right.tiff,199_left.tiff,14213_right.tiff,43764_right.tiff,11091_left.tiff,2190_left.tiff,12124_right.tiff,7494_right.tiff,20394_left.tiff,15821_left.tiff,735_left.tiff,28419_left.tiff,27858_right.tiff,8835_left.tiff,34719_right.tiff,4593_left.tiff,43194_right.tiff,6291_right.tiff,13658_right.tiff,37217_right.tiff,6478_left.tiff,29052_right.tiff,432_right.tiff,21857_left.tiff,35737_right.tiff,33284_right.tiff,24524_left.tiff,15798_left.tiff,31379_left.tiff,41303_right.tiff,26441_right.tiff,38235_right.tiff,30175_left.tiff,8223_left.tiff,30015_left.tiff,9450_left.tiff,12725_left.tiff,38066_left.tiff,7214_right.tiff,26024_left.tiff,14160_right.tiff,38277_left.tiff,34928_right.tiff,41451_left.tiff,20351_left.tiff,30675_left.tiff,38613_left.tiff,2448_left.tiff,24944_right.tiff,40706_right.tiff,62_right.tiff,3287_right.tiff,2530_left.tiff,15711_left.tiff,15134_left.tiff,1036_right.tiff,11387_right.tiff,12633_right.tiff,7210_right.tiff,19086_left.tiff,12434_right.tiff,25629_right.tiff,35446_right.tiff,7989_left.tiff,43619_left.tiff,33679_left.tiff,32936_left.tiff,14041_right.tiff,22361_right.tiff,25263_right.tiff,7419_left.tiff,27986_right.tiff,412_right.tiff,20080_left.tiff,9542_right.tiff,12003_left.tiff,6333_right.tiff,41584_right.tiff,25534_right.tiff,2034_left.tiff,37939_left.tiff,25593_right.tiff,40984_left.tiff,4196_left.tiff,8368_left.tiff,2359_right.tiff,24836_left.tiff,14712_left.tiff,15692_left.tiff,31763_right.tiff,36188_left.tiff,38690_right.tiff,2853_left.tiff,1754_left.tiff,29589_left.tiff,12955_left.tiff,5047_right.tiff,15699_right.tiff,14044_left.tiff,31962_left.tiff,1420_left.tiff,43391_left.tiff,13993_right.tiff,18440_left.tiff,35721_left.tiff,37407_left.tiff,39402_right.tiff,21651_right.tiff,33687_right.tiff,8207_right.tiff,12299_left.tiff,32451_left.tiff,17953_left.tiff,7822_left.tiff,23418_right.tiff,19493_right.tiff,23905_right.tiff,8742_left.tiff,43303_left.tiff,986_right.tiff,43593_left.tiff,40316_left.tiff,25148_left.tiff,16273_left.tiff,9488_right.tiff,26421_right.tiff,6452_left.tiff,22003_right.tiff,24783_right.tiff,14545_right.tiff,24737_right.tiff,18589_right.tiff,24955_left.tiff,12867_right.tiff,32282_right.tiff,36205_left.tiff,27117_right.tiff,23183_right.tiff,28604_left.tiff,39195_left.tiff,22392_right.tiff,4987_right.tiff,20748_left.tiff,34587_right.tiff,6547_right.tiff,7605_left.tiff,18303_right.tiff,32251_left.tiff,14169_right.tiff,7550_right.tiff,14367_left.tiff,41528_left.tiff,3088_left.tiff,34433_right.tiff,14998_left.tiff,5394_right.tiff,5978_right.tiff,2613_left.tiff,18924_right.tiff,39885_left.tiff,18908_right.tiff,41020_right.tiff,642_left.tiff,2408_right.tiff,6404_right.tiff,8353_right.tiff,16967_left.tiff,14299_right.tiff,1439_left.tiff,2047_right.tiff,5541_right.tiff,16693_left.tiff,30597_right.tiff,24983_left.tiff,11115_left.tiff,42192_left.tiff,2124_right.tiff,20093_left.tiff,2338_left.tiff,11181_left.tiff,39679_right.tiff,33778_right.tiff,9525_left.tiff,21805_left.tiff,44225_right.tiff,23771_left.tiff,15975_left.tiff,21341_right.tiff,22871_left.tiff,43615_left.tiff,14549_left.tiff,14315_right.tiff,33030_right.tiff,1309_left.tiff,12871_right.tiff,16620_left.tiff,20534_right.tiff,2970_right.tiff,18329_right.tiff,30787_right.tiff,24944_left.tiff,41237_left.tiff,31499_right.tiff,44117_left.tiff,19966_left.tiff,13410_right.tiff,29615_right.tiff,37305_left.tiff,22836_left.tiff,22904_left.tiff,25354_right.tiff,21701_left.tiff,1120_right.tiff,217_left.tiff,8041_left.tiff,22341_left.tiff,39880_right.tiff,10808_right.tiff,21038_left.tiff,7884_left.tiff,5936_right.tiff,23483_left.tiff,15585_right.tiff,30376_left.tiff,25936_left.tiff,20455_right.tiff,14212_right.tiff,4395_left.tiff,10255_left.tiff,33312_right.tiff,32835_left.tiff,40506_right.tiff,33589_right.tiff,39833_left.tiff,1206_left.tiff,23540_right.tiff,33836_right.tiff,21038_right.tiff,2726_left.tiff,17481_right.tiff,41714_right.tiff,20482_left.tiff,38686_right.tiff,15251_left.tiff,8251_left.tiff,30550_left.tiff,7708_left.tiff,16607_left.tiff,43008_left.tiff,31252_right.tiff,17429_right.tiff,24814_left.tiff,22797_right.tiff,28781_right.tiff,38191_right.tiff,6870_right.tiff,27542_right.tiff,26596_left.tiff,16646_right.tiff,28316_left.tiff,26357_left.tiff,317_right.tiff,16835_left.tiff,17473_right.tiff,24485_right.tiff,22583_left.tiff,41032_left.tiff,37294_right.tiff,25758_right.tiff,36129_left.tiff,7550_left.tiff,14306_left.tiff,37598_right.tiff,42481_right.tiff,13307_left.tiff,7107_right.tiff,40478_right.tiff,1351_right.tiff,23237_right.tiff,25984_right.tiff,532_right.tiff,28904_left.tiff,22101_left.tiff,6611_right.tiff,40390_left.tiff,673_left.tiff,33643_right.tiff,13042_right.tiff,23770_left.tiff,37726_right.tiff,39365_left.tiff,18696_left.tiff,32201_right.tiff,36502_left.tiff,4519_left.tiff,16594_right.tiff,29402_left.tiff,32495_right.tiff,7320_right.tiff,8778_left.tiff,\n",
      "9101_right.tiff,7088_left.tiff,28654_left.tiff,29737_right.tiff,15037_right.tiff,17746_left.tiff,29569_left.tiff,11780_right.tiff,3358_left.tiff,35798_right.tiff,14816_left.tiff,5976_left.tiff,5178_right.tiff,2598_left.tiff,1418_left.tiff,829_right.tiff,37383_right.tiff,14731_left.tiff,6276_right.tiff,25072_left.tiff,43831_right.tiff,37206_left.tiff,19598_right.tiff,33742_right.tiff,17309_left.tiff,12141_right.tiff,3251_left.tiff,37560_left.tiff,5715_left.tiff,25807_left.tiff,458_left.tiff,4367_right.tiff,22349_left.tiff,14086_right.tiff,1196_right.tiff,43176_right.tiff,6095_left.tiff,8490_left.tiff,16740_right.tiff,26888_right.tiff,20112_right.tiff,39652_left.tiff,41041_left.tiff,26742_left.tiff,15975_right.tiff,19934_right.tiff,35277_left.tiff,11053_right.tiff,10481_left.tiff,29099_right.tiff,31469_left.tiff,5344_right.tiff,29703_left.tiff,42965_left.tiff,17647_right.tiff,18982_left.tiff,37026_left.tiff,34173_right.tiff,29879_right.tiff,34453_left.tiff,28461_right.tiff,16753_right.tiff,9379_left.tiff,26960_right.tiff,21129_left.tiff,5847_left.tiff,21260_right.tiff,35548_left.tiff,28125_right.tiff,11773_left.tiff,12410_right.tiff,16403_right.tiff,29911_right.tiff,10156_right.tiff,35116_left.tiff,21610_right.tiff,32888_right.tiff,29823_left.tiff,4121_left.tiff,39945_right.tiff,2149_left.tiff,19940_right.tiff,42864_left.tiff,42126_left.tiff,14297_right.tiff,39455_right.tiff,17048_left.tiff,22866_left.tiff,20751_right.tiff,8522_right.tiff,16496_right.tiff,39223_right.tiff,22306_right.tiff,35325_right.tiff,3166_right.tiff,20568_left.tiff,22542_left.tiff,12441_left.tiff,32062_left.tiff,26334_right.tiff,36026_left.tiff,42755_left.tiff,13391_right.tiff,3509_left.tiff,43603_left.tiff,42627_left.tiff,14552_left.tiff,19675_left.tiff,43852_right.tiff,11749_left.tiff,6348_left.tiff,33976_right.tiff,37177_right.tiff,32589_right.tiff,43375_right.tiff,18763_right.tiff,8598_right.tiff,20046_right.tiff,1673_left.tiff,12734_left.tiff,3325_left.tiff,13186_right.tiff,34269_left.tiff,24150_left.tiff,9233_right.tiff,27766_left.tiff,24089_right.tiff,7106_left.tiff,23741_right.tiff,20161_left.tiff,31037_left.tiff,6163_right.tiff,16814_right.tiff,986_left.tiff,36746_right.tiff,9521_left.tiff,33773_right.tiff,12400_left.tiff,16727_left.tiff,10710_left.tiff,1395_right.tiff,22229_right.tiff,396_left.tiff,40370_left.tiff,34831_right.tiff,9278_right.tiff,26921_left.tiff,9396_left.tiff,2549_left.tiff,18189_right.tiff,10814_right.tiff,33417_left.tiff,3970_right.tiff,21039_left.tiff,31448_left.tiff,29010_right.tiff,7689_left.tiff,39052_right.tiff,17426_right.tiff,19512_right.tiff,3575_left.tiff,36838_right.tiff,6138_left.tiff,34815_right.tiff,169_right.tiff,37413_left.tiff,33892_left.tiff,27733_left.tiff,28039_right.tiff,14595_left.tiff,15949_left.tiff,35143_left.tiff,17184_left.tiff,36402_left.tiff,32057_right.tiff,38457_right.tiff,3464_left.tiff,27945_left.tiff,44338_left.tiff,18304_right.tiff,39359_left.tiff,20078_right.tiff,30846_right.tiff,15295_left.tiff,28188_left.tiff,12995_right.tiff,9342_left.tiff,14760_right.tiff,18946_left.tiff,32801_right.tiff,38480_left.tiff,29524_left.tiff,1907_left.tiff,41357_left.tiff,12411_right.tiff,19830_right.tiff,33716_right.tiff,31688_right.tiff,2705_right.tiff,4163_right.tiff,24170_left.tiff,41523_left.tiff,1429_left.tiff,4479_left.tiff,18073_right.tiff,16897_left.tiff,9450_right.tiff,26534_right.tiff,37312_right.tiff,3872_right.tiff,3762_right.tiff,1446_left.tiff,19600_right.tiff,36379_left.tiff,9566_right.tiff,12058_right.tiff,17719_left.tiff,25013_right.tiff,108_right.tiff,29442_right.tiff,934_right.tiff,13522_right.tiff,41290_left.tiff,26496_right.tiff,11120_left.tiff,38560_right.tiff,41950_right.tiff,37580_right.tiff,5878_right.tiff,19811_right.tiff,36065_right.tiff,19288_left.tiff,325_left.tiff,17705_right.tiff,21006_right.tiff,11298_left.tiff,5112_right.tiff,36655_right.tiff,35130_left.tiff,1471_right.tiff,10908_left.tiff,25978_left.tiff,41276_left.tiff,41717_left.tiff,12947_left.tiff,878_left.tiff,33100_left.tiff,40543_right.tiff,28385_left.tiff,32734_right.tiff,11292_left.tiff,29093_left.tiff,37407_right.tiff,29003_right.tiff,36148_left.tiff,26978_left.tiff,38694_left.tiff,16593_right.tiff,26148_right.tiff,34611_right.tiff,35121_right.tiff,5315_right.tiff,35595_left.tiff,41308_left.tiff,10257_right.tiff,35645_left.tiff,11391_left.tiff,7980_right.tiff,4601_right.tiff,25205_right.tiff,15396_left.tiff,33254_left.tiff,10913_right.tiff,992_right.tiff,739_right.tiff,5471_left.tiff,6865_left.tiff,14501_left.tiff,37233_left.tiff,28762_right.tiff,30206_right.tiff,24425_right.tiff,16170_left.tiff,13869_left.tiff,19299_right.tiff,20544_right.tiff,10569_left.tiff,4998_right.tiff,4190_left.tiff,27287_right.tiff,4980_right.tiff,36159_left.tiff,13323_left.tiff,20621_left.tiff,39431_right.tiff,30405_right.tiff,21086_right.tiff,37599_right.tiff,23567_left.tiff,19474_right.tiff,27841_left.tiff,23007_right.tiff,7403_left.tiff,30421_left.tiff,41746_left.tiff,19522_right.tiff,38002_left.tiff,1508_right.tiff,39379_right.tiff,39351_left.tiff,21377_right.tiff,7290_right.tiff,41098_left.tiff,31096_right.tiff,33688_left.tiff,19771_right.tiff,8259_left.tiff,10303_left.tiff,20273_right.tiff,1509_right.tiff,22684_left.tiff,6125_right.tiff,36500_right.tiff,10562_left.tiff,355_left.tiff,23318_right.tiff,38126_right.tiff,32273_left.tiff,26935_left.tiff,21843_left.tiff,14084_right.tiff,25527_right.tiff,24979_left.tiff,40871_left.tiff,35555_right.tiff,44056_left.tiff,25163_right.tiff,22952_right.tiff,9965_right.tiff,3067_left.tiff,7481_right.tiff,41307_right.tiff,4693_left.tiff,20892_left.tiff,16609_right.tiff,18474_left.tiff,12437_left.tiff,20463_left.tiff,21874_left.tiff,15640_right.tiff,37110_left.tiff,25269_right.tiff,26004_right.tiff,35894_right.tiff,5139_left.tiff,3326_right.tiff,8620_right.tiff,40793_left.tiff,33873_left.tiff,18187_right.tiff,6190_left.tiff,980_right.tiff,2355_left.tiff,8935_left.tiff,34166_left.tiff,6443_right.tiff,18215_right.tiff,20167_left.tiff,6539_right.tiff,17732_left.tiff,23111_left.tiff,23327_right.tiff,25942_left.tiff,4466_right.tiff,24241_left.tiff,8651_right.tiff,24490_left.tiff,4194_left.tiff,21503_left.tiff,11370_left.tiff,5930_left.tiff,23403_right.tiff,21079_left.tiff,23994_left.tiff,24626_right.tiff,29846_right.tiff,14450_left.tiff,36791_left.tiff,12918_left.tiff,16766_right.tiff,12372_right.tiff,38217_right.tiff,4887_right.tiff,10943_right.tiff,28413_left.tiff,10284_left.tiff,4614_left.tiff,24416_right.tiff,12968_right.tiff,27917_right.tiff,38672_left.tiff,10495_left.tiff,10292_left.tiff,7335_left.tiff,37761_right.tiff,10931_left.tiff,13596_left.tiff,40108_right.tiff,10415_left.tiff,18056_right.tiff,34739_right.tiff,37926_left.tiff,22852_left.tiff,5581_right.tiff,30396_left.tiff,11719_right.tiff,30602_left.tiff,24639_left.tiff,39507_right.tiff,1640_right.tiff,35064_right.tiff,38474_left.tiff,25382_left.tiff,14228_right.tiff,35775_right.tiff,18358_left.tiff,22652_left.tiff,42709_right.tiff,6011_left.tiff,9033_right.tiff,30112_left.tiff,27784_left.tiff,20933_left.tiff,20867_left.tiff,2755_right.tiff,21358_left.tiff,178_right.tiff,2851_right.tiff,22430_right.tiff,17486_left.tiff,558_right.tiff,28845_right.tiff,38597_left.tiff,5965_right.tiff,30757_left.tiff,5964_right.tiff,41349_right.tiff,33685_right.tiff,2248_right.tiff,18378_left.tiff,31732_right.tiff,20112_left.tiff,24419_left.tiff,13310_left.tiff,34138_left.tiff,40836_left.tiff,44141_right.tiff,10334_left.tiff,1396_right.tiff,23875_left.tiff,1488_left.tiff,36237_right.tiff,38959_right.tiff,18523_left.tiff,37301_left.tiff,21655_right.tiff,3305_left.tiff,14986_right.tiff,34289_right.tiff,19000_right.tiff,27703_left.tiff,24941_left.tiff,12092_right.tiff,44027_left.tiff,11992_left.tiff,17218_right.tiff,31519_right.tiff,31335_left.tiff,36453_right.tiff,37097_right.tiff,8583_right.tiff,16145_left.tiff,22191_left.tiff,31719_left.tiff,39975_left.tiff,36827_left.tiff,33876_right.tiff,25723_left.tiff,30587_right.tiff,14749_right.tiff,27677_right.tiff,11487_right.tiff,38949_right.tiff,337_left.tiff,39067_left.tiff,35726_left.tiff,1505_right.tiff,32630_left.tiff,4324_left.tiff,15422_right.tiff,20289_left.tiff,43543_right.tiff,12490_right.tiff,39981_left.tiff,35396_left.tiff,36999_right.tiff,2606_right.tiff,5368_left.tiff,11527_right.tiff,29896_right.tiff,27175_left.tiff,13619_left.tiff,42179_left.tiff,11826_right.tiff,30303_right.tiff,28743_left.tiff,16389_right.tiff,13685_right.tiff,39344_right.tiff,6836_right.tiff,19854_left.tiff,9507_right.tiff,31441_left.tiff,10947_right.tiff,11896_right.tiff,44238_right.tiff,35990_right.tiff,37160_right.tiff,35593_right.tiff,37745_left.tiff,27600_left.tiff,2598_right.tiff,39101_right.tiff,11971_left.tiff,41297_right.tiff,23261_right.tiff,7058_right.tiff,15150_right.tiff,38178_right.tiff,979_right.tiff,10181_right.tiff,41440_left.tiff,17548_left.tiff,3653_right.tiff,25147_right.tiff,5100_left.tiff,6613_left.tiff,19762_left.tiff,30922_right.tiff,22999_right.tiff,37229_right.tiff,30868_right.tiff,2108_right.tiff,39604_left.tiff,7397_left.tiff,29595_left.tiff,156_right.tiff,36467_right.tiff,367_left.tiff,21807_right.tiff,15069_left.tiff,23724_left.tiff,5835_left.tiff,38447_left.tiff,11216_left.tiff,24689_right.tiff,27812_right.tiff,9123_left.tiff,18972_right.tiff,25555_left.tiff,8410_right.tiff,25496_left.tiff,20939_left.tiff,42459_right.tiff,31885_left.tiff,31825_right.tiff,38727_right.tiff,18608_left.tiff,18583_left.tiff,18186_right.tiff,36202_left.tiff,18149_left.tiff,30897_right.tiff,16593_left.tiff,7947_left.tiff,14242_right.tiff,18136_left.tiff,4374_right.tiff,13427_right.tiff,35697_right.tiff,20950_right.tiff,31987_right.tiff,27013_left.tiff,3740_left.tiff,12238_right.tiff,1600_right.tiff,43141_left.tiff,10819_left.tiff,26527_right.tiff,41621_left.tiff,17114_right.tiff,21940_right.tiff,1972_right.tiff,21130_left.tiff,8274_left.tiff,15034_left.tiff,12209_right.tiff,42753_left.tiff,31439_right.tiff,22240_right.tiff,2908_right.tiff,328_left.tiff,11726_left.tiff,1713_right.tiff,35836_left.tiff,9115_right.tiff,2683_right.tiff,31011_right.tiff,19507_right.tiff,23335_left.tiff,10688_left.tiff,24232_left.tiff,7032_right.tiff,26281_right.tiff,27797_right.tiff,11244_left.tiff,157_left.tiff,32825_left.tiff,20973_right.tiff,30893_right.tiff,18203_left.tiff,40754_left.tiff,18231_left.tiff,19694_right.tiff,20478_right.tiff,12683_left.tiff,23284_left.tiff,531_right.tiff,25450_left.tiff,26753_right.tiff,28458_left.tiff,1255_left.tiff,23182_left.tiff,20182_right.tiff,7228_left.tiff,11448_right.tiff,15544_right.tiff,2270_left.tiff,5047_left.tiff,42941_right.tiff,30000_left.tiff,25002_left.tiff,28112_left.tiff,26583_left.tiff,14760_left.tiff,28518_right.tiff,40441_left.tiff,32881_left.tiff,22291_right.tiff,2628_right.tiff,43054_left.tiff,10141_right.tiff,29321_left.tiff,8387_right.tiff,32454_right.tiff,6668_left.tiff,41696_left.tiff,18512_left.tiff,28947_left.tiff,44280_left.tiff,20927_left.tiff,939_right.tiff,17083_left.tiff,43113_left.tiff,34098_right.tiff,25871_left.tiff,13879_right.tiff,2095_left.tiff,9278_left.tiff,22076_right.tiff,10328_left.tiff,41011_left.tiff,24665_left.tiff,22452_right.tiff,36535_left.tiff,38243_right.tiff,4793_left.tiff,23282_left.tiff,37404_right.tiff,15970_left.tiff,18065_right.tiff,30503_right.tiff,34075_right.tiff,41819_left.tiff,43007_left.tiff,34685_right.tiff,448_right.tiff,36812_right.tiff,13043_right.tiff,21661_right.tiff,31317_left.tiff,27943_right.tiff,38373_right.tiff,4253_right.tiff,2743_left.tiff,37041_left.tiff,20819_right.tiff,6240_left.tiff,40723_left.tiff,5497_right.tiff,16417_right.tiff,32311_right.tiff,25594_left.tiff,13867_right.tiff,5237_left.tiff,15101_left.tiff,42413_right.tiff,18863_right.tiff,15795_right.tiff,11828_right.tiff,174_right.tiff,44285_right.tiff,14588_right.tiff,18010_left.tiff,28492_right.tiff,2869_right.tiff,17779_left.tiff,7552_right.tiff,15709_left.tiff,37378_left.tiff,27667_right.tiff,32943_right.tiff,20172_left.tiff,33375_right.tiff,21500_right.tiff,25420_left.tiff,42919_right.tiff,7035_right.tiff,1940_right.tiff,38569_right.tiff,10839_left.tiff,17845_right.tiff,5679_left.tiff,27959_right.tiff,9697_left.tiff,34022_right.tiff,12712_right.tiff,10940_left.tiff,29475_left.tiff,30710_right.tiff,9603_left.tiff,2824_left.tiff,24468_left.tiff,28236_left.tiff,12929_left.tiff,42337_left.tiff,8683_right.tiff,10879_left.tiff,36653_left.tiff,22865_left.tiff,17852_right.tiff,35451_left.tiff,39064_right.tiff,21139_left.tiff,14774_right.tiff,36686_left.tiff,27472_right.tiff,15657_left.tiff,30627_left.tiff,18728_right.tiff,32334_right.tiff,29941_left.tiff,39869_right.tiff,1660_right.tiff,11642_right.tiff,22611_left.tiff,15973_right.tiff,21463_left.tiff,30762_left.tiff,42172_right.tiff,42830_right.tiff,23831_right.tiff,30170_right.tiff,33624_right.tiff,14970_right.tiff,14911_left.tiff,9322_right.tiff,39796_right.tiff,20993_right.tiff,5192_right.tiff,32475_right.tiff,44330_right.tiff,38891_right.tiff,31953_right.tiff,1180_left.tiff,30977_right.tiff,33031_right.tiff,35893_right.tiff,3379_left.tiff,22458_left.tiff,5303_left.tiff,5008_right.tiff,18095_left.tiff,14082_left.tiff,33504_right.tiff,7379_left.tiff,29407_right.tiff,21252_right.tiff,17900_left.tiff,25261_left.tiff,41849_right.tiff,33806_left.tiff,1093_right.tiff,43783_right.tiff,21805_right.tiff,30444_right.tiff,14186_left.tiff,5776_left.tiff,14672_left.tiff,3496_right.tiff,10745_left.tiff,38108_right.tiff,11534_right.tiff,30925_left.tiff,29768_left.tiff,42550_right.tiff,10326_right.tiff,6956_left.tiff,21268_right.tiff,1481_right.tiff,1769_right.tiff,11645_right.tiff,11805_left.tiff,7686_right.tiff,25361_left.tiff,9243_right.tiff,38322_left.tiff,21180_left.tiff,14723_right.tiff,24568_right.tiff,5465_right.tiff,25735_left.tiff,40273_right.tiff,33258_left.tiff,39364_right.tiff,9243_left.tiff,42796_right.tiff,18436_right.tiff,4322_left.tiff,38995_left.tiff,10218_right.tiff,44083_left.tiff,29307_left.tiff,11541_left.tiff,3220_right.tiff,17972_right.tiff,42916_left.tiff,27755_right.tiff,2668_right.tiff,10705_left.tiff,9333_left.tiff,7844_right.tiff,42560_left.tiff,41823_left.tiff,6940_right.tiff,20306_left.tiff,24019_right.tiff,39457_left.tiff,22488_left.tiff,16111_left.tiff,11970_left.tiff,24032_right.tiff,30682_right.tiff,8301_right.tiff,37551_right.tiff,42571_left.tiff,32317_left.tiff,22118_left.tiff,33481_right.tiff,10629_right.tiff,11923_right.tiff,10377_left.tiff,122_left.tiff,3395_right.tiff,25156_right.tiff,27225_left.tiff,16468_left.tiff,18149_right.tiff,29650_right.tiff,4275_left.tiff,36717_right.tiff,21099_right.tiff,26873_right.tiff,15450_left.tiff,34875_left.tiff,15385_left.tiff,29418_left.tiff,34704_left.tiff,27162_left.tiff,40177_right.tiff,41847_left.tiff,20824_right.tiff,4132_right.tiff,13731_left.tiff,274_left.tiff,7403_right.tiff,35536_left.tiff,6837_right.tiff,28092_left.tiff,13683_right.tiff,15351_left.tiff,13390_right.tiff,10269_right.tiff,34006_right.tiff,1667_right.tiff,2908_left.tiff,3114_left.tiff,35966_left.tiff,9419_left.tiff,43294_left.tiff,10947_left.tiff,9640_right.tiff,36184_left.tiff,19568_right.tiff,39201_right.tiff,31050_right.tiff,28132_left.tiff,1092_right.tiff,3570_left.tiff,32247_right.tiff,33395_left.tiff,4724_left.tiff,21541_right.tiff,8897_left.tiff,31834_left.tiff,36338_left.tiff,31994_right.tiff,39505_right.tiff,30714_left.tiff,39424_right.tiff,25280_left.tiff,20137_right.tiff,3892_right.tiff,16095_left.tiff,7120_left.tiff,41006_left.tiff,11289_left.tiff,2933_right.tiff,41882_left.tiff,4496_left.tiff,36192_right.tiff,35470_right.tiff,25560_left.tiff,19925_right.tiff,41756_right.tiff,7852_left.tiff,32496_left.tiff,14467_right.tiff,16649_left.tiff,32980_left.tiff,18701_left.tiff,40469_left.tiff,29462_left.tiff,40318_right.tiff,11366_right.tiff,9788_left.tiff,12715_right.tiff,36635_left.tiff,25818_left.tiff,20179_left.tiff,15270_left.tiff,1240_left.tiff,34697_right.tiff,23079_left.tiff,36567_left.tiff,33504_left.tiff,14628_left.tiff,35643_right.tiff,4196_right.tiff,38650_right.tiff,43441_right.tiff,1040_left.tiff,9672_right.tiff,39613_left.tiff,21921_left.tiff,39435_left.tiff,6584_right.tiff,38567_right.tiff,26862_right.tiff,2758_right.tiff,10726_left.tiff,39686_left.tiff,4398_right.tiff,15902_right.tiff,2561_left.tiff,2544_right.tiff,40110_right.tiff,1520_left.tiff,23300_left.tiff,41422_left.tiff,"
     ]
    }
   ],
   "source": [
    "import numpy as np\n",
    "import random\n",
    "with open(\"train_name.txt\") as input_file:\n",
    "    name_list = []\n",
    "    n = 2000\n",
    "    i = 0\n",
    "    for line in input_file:\n",
    "        name_list.append(line[:-1])\n",
    "        i += 1\n",
    "    input_file.seek(0)\n",
    "    name_list = random.sample(name_list, n)\n",
    "    i = 0\n",
    "    for name in name_list:\n",
    "        i += 1\n",
    "        print(name, end = \",\")\n",
    "        if i == 1000:\n",
    "            print()\n",
    "    "
   ]
  },
  {
   "cell_type": "markdown",
   "metadata": {},
   "source": [
    "# The definition of basic request information and parameters"
   ]
  },
  {
   "cell_type": "code",
   "execution_count": 64,
   "metadata": {},
   "outputs": [],
   "source": [
    "#!/usr/bin/env python\n",
    "# encoding: utf-8\n",
    "import requests\n",
    "import time\n",
    "import copy\n",
    "import os\n",
    "\n",
    "API = \"https://api.appsign.vip:2688\"\n",
    "APPINFO = {\n",
    "    \"version_code\": \"2.7.0\",\n",
    "    \"app_version\": \"2.7.0\",\n",
    "    \"channel\": \"App%20Stroe\",\n",
    "    \"app_name\": \"aweme\",\n",
    "    \"build_number\": \"27014\",\n",
    "    \"aid\": \"1128\",\n",
    "}\n",
    "\n",
    "# APPINFO = {\n",
    "#     \"version_code\": \"2.8.0\",\n",
    "#     \"app_version\": \"2.8.0\",\n",
    "#     \"channel\": \"App Stroe\",\n",
    "#     \"app_name\": \"aweme\",\n",
    "#     \"build_number\": \"28007\",\n",
    "#     \"aid\": \"1128\",\n",
    "# }\n",
    "\n",
    "# APPINFO = {\n",
    "#     \"version_code\": \"2.9.1\",\n",
    "#     \"app_version\": \"2.9.1\",\n",
    "#     \"channel\": \"App Stroe\",\n",
    "#     \"app_name\": \"aweme\",\n",
    "#     \"build_number\": \"29101\",\n",
    "#     \"aid\": \"1128\",\n",
    "# }\n",
    "\n",
    "header = {\n",
    "    \"User-Agent\": \"Aweme/2.8.0 (iPhone; iOS 11.0; Scale/2.00)\"\n",
    "}\n",
    "\n",
    "# params\n",
    "FOLLOW_LIST_PARAMS = {\n",
    "    \"count\": \"20\",\n",
    "    \"offset\": \"0\",\n",
    "    \"user_id\": None,\n",
    "    \"source_type\": \"2\",\n",
    "    \"max_time\": int(time.time()),\n",
    "}\n",
    "\n",
    "COMMENT_LIST_PARAMS = {\n",
    "    \"count\": \"20\",\n",
    "    \"cursor\": \"0\",\n",
    "    \"comment_style\": '2',\n",
    "    \"aweme_id\": None,\n",
    "    \"digged_cid\": \"\",\n",
    "}\n",
    "\n",
    "USER_VIDEO_PARAMS = {\n",
    "    \"count\": \"21\",\n",
    "    # \"offset\": \"0\",\n",
    "    \"user_id\": None,\n",
    "    # \"max_cursor\": str(int(time.time())) + \"000\",\n",
    "    \"max_cursor\": \"0\",\n",
    "}\n",
    "\n",
    "# get token  60 min available\n",
    "def getToken():\n",
    "    resp = requests.get(API + \"/token/douyin/version/2.7.0\").json()\n",
    "    token = resp['token']\n",
    "#     print(\"Token: \" + token)\n",
    "    return token\n",
    "\n",
    "# get device info\n",
    "def getDevice():\n",
    "    resp = requests.get(API + \"/douyin/device/new/version/2.7.0\").json()\n",
    "    device_info = resp['data']\n",
    "#     print(\"Device info: \" + str(device_info))\n",
    "    return device_info\n",
    "\n",
    "# generate params in \"%s=%s&\" format from a dict\n",
    "def params2str(params):\n",
    "    query = \"\"\n",
    "    for k, v in params.items():\n",
    "        query += \"%s=%s&\" % (k, v)\n",
    "    query = query.strip(\"&\")\n",
    "    print(\"Sign str: \" + query)\n",
    "    return query\n",
    "\n",
    "# get sign using token and query\n",
    "def getSign(token, query):\n",
    "    if isinstance(query, dict):\n",
    "        query = params2str(query)\n",
    "    resp = requests.post(API + \"/sign\", json={\"token\": token, \"query\": query}).json()\n",
    "#     print(\"Sign res: \" + str(resp))\n",
    "    sign = resp['data']\n",
    "    return sign\n",
    "\n",
    "\n",
    "def get_common_params():\n",
    "    '''\n",
    "        this is common parameters that will be used by all requests\n",
    "    '''\n",
    "    # get device info\n",
    "    device_info = getDevice()\n",
    "    params = {\n",
    "        \"iid\":              device_info['iid'],\n",
    "        \"idfa\":             device_info['idfa'],\n",
    "        \"vid\":              device_info['vid'],\n",
    "        \"device_id\":        device_info['device_id'],\n",
    "        \"openudid\":         device_info['openudid'],\n",
    "        \"device_type\":      device_info['device_type'],\n",
    "        \"os_version\":       device_info['os_version'],\n",
    "        \"os_api\":           device_info['os_api'],\n",
    "        \"screen_width\":     device_info['screen_width'],\n",
    "        \"device_platform\":  device_info['device_platform'],\n",
    "        \"version_code\": APPINFO['version_code'],\n",
    "        \"channel\":      APPINFO['channel'],\n",
    "        \"app_name\":     APPINFO['app_name'],\n",
    "        \"build_number\": APPINFO['build_number'],\n",
    "        \"app_version\":  APPINFO['app_version'],\n",
    "        \"aid\":          APPINFO['aid'],\n",
    "        \"ac\":           \"WIFI\"\n",
    "    }\n",
    "    return params\n",
    "\n",
    "\n",
    "# define urls\n",
    "COMMON_URL = \"https://aweme.snssdk.com/aweme/v1/\"\n",
    "\n",
    "def follow_url():\n",
    "    return COMMON_URL + \"user/following/list/\"\n",
    "\n",
    "def video_detail_url():\n",
    "    return COMMON_URL + \"aweme/detail/\"\n",
    "\n",
    "def favorite_url():\n",
    "    return COMMON_URL + \"aweme/favorite/\"\n",
    "\n",
    "def post_url():\n",
    "    return COMMON_URL + \"aweme/post/\"\n",
    "\n",
    "def comment_url():\n",
    "    return COMMON_URL + \"comment/list/\"\n",
    "\n",
    "def music_url(music_id):\n",
    "    return \"https://p3.pstatp.com/obj/\" + music_id\n",
    "\n",
    "def like_video_url():\n",
    "    return COMMON_URL + \"commit/item/digg/\""
   ]
  },
  {
   "cell_type": "markdown",
   "metadata": {},
   "source": [
    "# The core code for crawler"
   ]
  },
  {
   "cell_type": "code",
   "execution_count": 65,
   "metadata": {},
   "outputs": [],
   "source": [
    "def download_music(music_id):\n",
    "    if not music_id:\n",
    "        return\n",
    "    resp = requests.get(music_url(music_id), headers=header, verify=False)\n",
    "    music_content = resp.content\n",
    "    return music_content\n",
    "\n",
    "def download_video(aweme_id):\n",
    "    query_params = get_common_params()\n",
    "    query_params['aweme_id'] = aweme_id\n",
    "\n",
    "    sign = getSign(getToken(), query_params)\n",
    "    params = {**query_params, **sign}\n",
    "\n",
    "    post_data = {\n",
    "        \"aweme_id\": aweme_id\n",
    "    }\n",
    "    resp = requests.get(video_detail_url(),\n",
    "                        params=params,\n",
    "                        data=post_data,\n",
    "                        verify=False,\n",
    "                        headers=header)\n",
    "    resp_result = resp.json()\n",
    "    # print(resp_result)\n",
    "    play_addr_raw = resp_result['aweme_detail']['video']['play_addr']['url_list']\n",
    "    play_addr = play_addr_raw[0]\n",
    "    content = requests.get(play_addr).content\n",
    "    return content\n",
    "\n",
    "def download_user_video(aweme_id, **video_infos):\n",
    "    video_content = download_video(aweme_id)\n",
    "    if not video_content:\n",
    "        print(\"Error while downloading video...\")\n",
    "        return\n",
    "    \n",
    "    music_id = video_infos.get(\"music_id\")\n",
    "    music_content = download_music(music_id)\n",
    "    \n",
    "    # concatenate video info\n",
    "    author_nick_name = video_infos.get(\"author_nick_name\")\n",
    "    author_uid = video_infos.get(\"author_uid\")\n",
    "    video_desc = video_infos.get(\"video_desc\")\n",
    "    video_name = \"_\".join([author_nick_name, author_uid, video_desc])\n",
    "\n",
    "    music_log_info = \"and music\" if music_content else \"\"\n",
    "    print(\"downloading video {} {} \".format(music_log_info, video_name))\n",
    "    \n",
    "    file_path_grandfather = \"./\"\n",
    "    if not os.path.exists(\"{}videos/{}\".format(file_path_grandfather, author_nick_name)):\n",
    "        os.makedirs(\"{}videos/{}\".format(file_path_grandfather, author_nick_name))\n",
    "    with open(\"{}videos/{}/{}.mp4\".format(file_path_grandfather, author_nick_name, video_name), 'wb') as f:\n",
    "        f.write(video_content)\n",
    "\n",
    "    # if exist background music, then download\n",
    "    if music_content:\n",
    "        with open(\"{}videos/{}/{}.mp3\".format(file_path_grandfather, author_nick_name, video_name), 'wb') as f:\n",
    "            f.write(music_content)\n",
    "\n",
    "def grab_video(user_id, action, content, max_cursor=0):\n",
    "    # construct request parameters\n",
    "    favorite_params = copy.deepcopy(USER_VIDEO_PARAMS)\n",
    "    favorite_params['user_id'] = user_id\n",
    "    favorite_params['max_cursor'] = max_cursor\n",
    "    query_params = {**favorite_params, **get_common_params()}\n",
    "    sign = getSign(getToken(), query_params)\n",
    "    params = {**query_params, **sign}\n",
    "    \n",
    "    print(\"Query Params: \", params)\n",
    "\n",
    "    # we can get all videos either from user's like or user's post\n",
    "    url = favorite_url() if action == \"USER_LIKE\" else post_url()\n",
    "    resp = requests.get(url,\n",
    "                        params=params,\n",
    "                        verify=False,\n",
    "                        headers=header)\n",
    "\n",
    "    favorite_info = resp.json()\n",
    "    \n",
    "    print(\"Returned INFO: \", favorite_info)\n",
    "\n",
    "    hasmore = favorite_info.get('has_more')\n",
    "    max_cursor = favorite_info.get('max_cursor')\n",
    "    video_infos = favorite_info.get('aweme_list')\n",
    "\n",
    "    for per_video in video_infos:\n",
    "        author_nick_name = per_video['author'].get(\"nickname\")\n",
    "        author_uid = per_video['author'].get('uid')\n",
    "        video_desc = per_video.get('desc')\n",
    "        music_id = per_video['music']['play_url'].get('uri') if content == \"-m\" else None\n",
    "        download_item = {\n",
    "            \"author_nick_name\": author_nick_name,\n",
    "            \"video_desc\": video_desc,\n",
    "            \"author_uid\": author_uid,\n",
    "            \"music_id\": music_id\n",
    "        }\n",
    "        aweme_id = per_video.get(\"aweme_id\")\n",
    "        download_user_video(aweme_id, **download_item)\n",
    "        time.sleep(5)\n",
    "    return hasmore, max_cursor\n",
    "        \n",
    "def grab_video_main(user_id):\n",
    "    count = 1\n",
    "    print(\"Crawling from page #{}...\".format(count))\n",
    "    hasmore, max_cursor = grab_video(user_id, \"USER_POST\", \"-m\", 0)\n",
    "    while hasmore:\n",
    "        count += 1\n",
    "        print(\"Crawling from page #{}...\".format(count))\n",
    "        hasmore, max_cursor = grab_video(user_id, \"USER_POST\", \"-m\", max_cursor)"
   ]
  },
  {
   "cell_type": "markdown",
   "metadata": {},
   "source": [
    "# Main function"
   ]
  },
  {
   "cell_type": "code",
   "execution_count": 66,
   "metadata": {},
   "outputs": [
    {
     "name": "stdout",
     "output_type": "stream",
     "text": [
      "Crawling from page #1...\n",
      "Sign str: count=21&user_id=73961516291&max_cursor=0&iid=58047480453&idfa=4333E627-B5AC-AABE-10AD-17DCBAEE51A4&vid=5EC49BCA-8A9F-8D9B-734A-FD49DBAC5126&device_id=61988486188&openudid=bbcc0730e2efe1c7ca6c5fca3af89db8c9b8c0e4&device_type=iPhone8,1&os_version=11.0&os_api=18&screen_width=750&device_platform=iphone&version_code=2.7.0&channel=App%20Stroe&app_name=aweme&build_number=27014&app_version=2.7.0&aid=1128&ac=WIFI\n",
      "Query Params:  {'count': '21', 'user_id': '73961516291', 'max_cursor': 0, 'iid': 58047480453, 'idfa': '4333E627-B5AC-AABE-10AD-17DCBAEE51A4', 'vid': '5EC49BCA-8A9F-8D9B-734A-FD49DBAC5126', 'device_id': 61988486188, 'openudid': 'bbcc0730e2efe1c7ca6c5fca3af89db8c9b8c0e4', 'device_type': 'iPhone8,1', 'os_version': '11.0', 'os_api': '18', 'screen_width': '750', 'device_platform': 'iphone', 'version_code': '2.7.0', 'channel': 'App%20Stroe', 'app_name': 'aweme', 'build_number': '27014', 'app_version': '2.7.0', 'aid': '1128', 'ac': 'WIFI', 'mas': '016f800ca1a6fada7bf7c8464ddefe26c21aee6e295ad675065cf1', 'as': 'a1c54754505cecad804149', 'ts': '1547730368'}\n"
     ]
    },
    {
     "name": "stderr",
     "output_type": "stream",
     "text": [
      "/usr/local/lib/python3.7/site-packages/urllib3/connectionpool.py:847: InsecureRequestWarning: Unverified HTTPS request is being made. Adding certificate verification is strongly advised. See: https://urllib3.readthedocs.io/en/latest/advanced-usage.html#ssl-warnings\n",
      "  InsecureRequestWarning)\n"
     ]
    },
    {
     "name": "stdout",
     "output_type": "stream",
     "text": [
      "Returned INFO:  {'log_pb': {'impr_id': '20190117210608010003045067766545'}, 'status_code': 0, 'min_cursor': 1547307425000, 'max_cursor': 1528641103000, 'has_more': 1, 'aweme_list': [{'user_digged': 0, 'status': {'allow_comment': True, 'is_private': False, 'private_status': 0, 'with_fusion_goods': False, 'in_reviewing': False, 'aweme_id': '6632134742290468100', 'is_delete': False, 'allow_share': True, 'with_goods': False, 'reviewed': 1, 'self_see': False, 'is_prohibited': False, 'download_status': 0}, 'is_ads': False, 'risk_infos': {'risk_sink': False, 'type': 0, 'content': '', 'vote': False, 'warn': False}, 'video_text': [], 'label_top': {'height': 720, 'uri': '729f0000ef991e85fccf', 'url_list': ['https://p3-dy.bytecdn.cn/obj/729f0000ef991e85fccf', 'https://p9-dy.bytecdn.cn/obj/729f0000ef991e85fccf', 'https://p1-dy.bytecdn.cn/obj/729f0000ef991e85fccf'], 'width': 720}, 'sort_label': '', 'label_top_text': None, 'is_pgcshow': False, 'promotions': [], 'aweme_id': '6632134742290468100', 'text_extra': [{'end': 32, 'user_id': '104752148016', 'type': 0, 'start': 19}, {'type': 1, 'hashtag_name': '圣诞抖抖舞', 'hashtag_id': '1618812417390600', 'is_commerce': False, 'start': 0, 'end': 6}], 'video_labels': [], 'is_fantasy': False, 'position': None, 'comment_list': None, 'group_id': '6632134742290468100', 'nickname_position': None, 'long_video': None, 'prevent_download': False, 'create_time': 1544164201, 'author': {'user_rate': 1, 'cover_url': [{'uri': 'c8510002be9a3a61aad2', 'url_list': ['https://p9-dy.bytecdn.cn/obj/c8510002be9a3a61aad2', 'https://p3-dy.bytecdn.cn/obj/c8510002be9a3a61aad2', 'https://p1-dy.bytecdn.cn/obj/c8510002be9a3a61aad2'], 'width': 720, 'height': 720}], 'story_open': False, 'authority_status': 0, 'has_email': False, 'avatar_uri': 'f8dd0012d6bd7eff7319', 'special_lock': 1, 'prevent_download': False, 'location': '', 'unique_id': '', 'sync_to_toutiao': 0, 'neiguang_shield': 0, 'policy_version': None, 'user_mode': 0, 'constellation': 10, 'live_verify': 0, 'school_poi_id': '', 'unique_id_modify_time': 1547730368, 'ins_id': '', 'youtube_channel_title': '', 'with_fusion_shop_entry': False, 'total_favorited': 0, 'fb_expire_time': 0, 'region': 'CN', 'type_label': None, 'verify_info': '', 'shield_comment_notice': 0, 'short_id': '267351542', 'hide_location': False, 'weibo_schema': '', 'has_twitter_token': False, 'ad_cover_url': None, 'is_verified': True, 'shield_follow_notice': 0, 'apple_account': 0, 'is_phone_binded': False, 'reflow_page_gid': 0, 'share_qrcode_uri': '5ad8000fbe98a1422ea7', 'user_canceled': False, 'room_id': 0, 'live_commerce': False, 'weibo_name': '', 'verification_type': 1, 'language': 'zh-Hans', 'duet_setting': 0, 'avatar_medium': {'url_list': ['https://p9-dy.bytecdn.cn/aweme/720x720/f8dd0012d6bd7eff7319.jpeg', 'https://p3-dy.bytecdn.cn/aweme/720x720/f8dd0012d6bd7eff7319.jpeg', 'https://p1-dy.bytecdn.cn/aweme/720x720/f8dd0012d6bd7eff7319.jpeg'], 'width': 720, 'height': 720, 'uri': 'f8dd0012d6bd7eff7319'}, 'school_type': 0, 'enterprise_verify_reason': '', 'is_ad_fake': False, 'follower_status': 0, 'has_unread_story': False, 'tw_expire_time': 0, 'user_period': 0, 'youtube_expire_time': 0, 'has_orders': False, 'create_time': 1516803270, 'aweme_count': 0, 'is_binded_weibo': False, 'story_count': 0, 'share_info': {'share_desc': '', 'share_title': '', 'share_qrcode_url': {'height': 720, 'uri': '5ad8000fbe98a1422ea7', 'url_list': ['https://p1-dy.bytecdn.cn/obj/5ad8000fbe98a1422ea7', 'https://p3-dy.bytecdn.cn/obj/5ad8000fbe98a1422ea7', 'https://p9-dy.bytecdn.cn/obj/5ad8000fbe98a1422ea7'], 'width': 720}, 'share_title_myself': '', 'share_title_other': '', 'share_url': '', 'share_weibo_desc': ''}, 'gender': 1, 'is_gov_media_vip': False, 'birthday': '1902-01-01', 'with_commerce_entry': False, 'twitter_id': '', 'download_prompt_ts': 0, 'youtube_channel_id': '', 'hide_search': False, 'weibo_url': '', 'has_youtube_token': False, 'followers_detail': None, 'platform_sync_info': None, 'with_dou_entry': False, 'live_agreement_time': 0, 'nickname': 'kuokuo', 'signature': 'kuokuo逐日 \\n陪你找到自己\\n陪你变得更好❤️', 'account_region': '', 'geofencing': [], 'show_image_bubble': False, 'following_count': 0, 'custom_verify': '', 'bind_phone': '', 'school_name': '', 'with_shop_entry': False, 'twitter_name': '', 'status': 1, 'is_block': False, 'live_agreement': 0, 'react_setting': 0, 'uid': '73961516291', 'avatar_larger': {'url_list': ['https://p3-dy.bytecdn.cn/aweme/1080x1080/f8dd0012d6bd7eff7319.jpeg', 'https://p1-dy.bytecdn.cn/aweme/1080x1080/f8dd0012d6bd7eff7319.jpeg', 'https://p9-dy.bytecdn.cn/aweme/1080x1080/f8dd0012d6bd7eff7319.jpeg'], 'width': 720, 'height': 720, 'uri': 'f8dd0012d6bd7eff7319'}, 'is_discipline_member': False, 'google_account': '', 'comment_setting': 0, 'has_insights': False, 'has_facebook_token': False, 'download_setting': -1, 'new_story_cover': None, 'cv_level': '', 'favoriting_count': 0, 'weibo_verify': '', 'shield_digg_notice': 0, 'follow_status': 0, 'commerce_user_level': 0, 'reflow_page_uid': 0, 'need_recommend': 1, 'secret': 0, 'video_icon': {'uri': '', 'url_list': [], 'width': 720, 'height': 720}, 'accept_private_policy': False, 'avatar_thumb': {'width': 720, 'height': 720, 'uri': 'f8dd0012d6bd7eff7319', 'url_list': ['https://p3-dy.bytecdn.cn/aweme/100x100/f8dd0012d6bd7eff7319.jpeg', 'https://p9-dy.bytecdn.cn/aweme/100x100/f8dd0012d6bd7eff7319.jpeg', 'https://p1-dy.bytecdn.cn/aweme/100x100/f8dd0012d6bd7eff7319.jpeg']}, 'follower_count': 0, 'item_list': None}, 'is_vr': False, 'cmt_swt': False, 'geofencing': [], 'vr_type': 0, 'video': {'width': 720, 'bit_rate': [{'quality_type': 20, 'bit_rate': 662068, 'play_addr': {'uri': 'v0200fa00000bg516oppskdu1cekhk70', 'url_list': ['http://v3-dy-z.ixigua.com/ba73dd3a5b1eca43d31950692d0bd61e/5c408be4/video/m/2208b5762a7728a4f5db18170eb2bee40c6116110bea00009229f114b8eb/?rc=M25uZnhuc3I0ajMzM2kzM0ApQHRAbzg4OTozNzYzNDs5NDo0PDNAKXUpQGczdylAZmh1eXExZnNoaGRmOzRANGViLmFwbTMyXy0tXi0vc3MtbyNvIzEzNDMyLS0tLS0tLy4tLi9pOmItbyM6YDBvI3BiZnJoXitqdDojLy5e', 'http://v1-dy.ixigua.com/60be2a454e9b4a58f1f0e5a04612c99a/5c408be4/video/m/2208b5762a7728a4f5db18170eb2bee40c6116110bea00009229f114b8eb/?rc=M25uZnhuc3I0ajMzM2kzM0ApQHRAbzg4OTozNzYzNDs5NDo0PDNAKXUpQGczdylAZmh1eXExZnNoaGRmOzRANGViLmFwbTMyXy0tXi0vc3MtbyNvIzEzNDMyLS0tLS0tLy4tLi9pOmItbyM6YDBvI3BiZnJoXitqdDojLy5e', 'https://aweme.snssdk.com/aweme/v1/play/?video_id=v0200fa00000bg516oppskdu1cekhk70&line=0&ratio=540p&media_type=4&vr_type=0&test_cdn=None&improve_bitrate=0&h265=1', 'https://aweme.snssdk.com/aweme/v1/play/?video_id=v0200fa00000bg516oppskdu1cekhk70&line=1&ratio=540p&media_type=4&vr_type=0&test_cdn=None&improve_bitrate=0&h265=1', 'https://api.amemv.com/aweme/v1/play/?video_id=v0200fa00000bg516oppskdu1cekhk70&line=0&ratio=540p&media_type=4&vr_type=0&test_cdn=None&improve_bitrate=0&h265=1', 'https://api.amemv.com/aweme/v1/play/?video_id=v0200fa00000bg516oppskdu1cekhk70&line=1&ratio=540p&media_type=4&vr_type=0&test_cdn=None&improve_bitrate=0&h265=1'], 'width': 720, 'height': 720, 'url_key': 'v0200fa00000bg516oppskdu1cekhk70_h265_540p_662068'}, 'is_h265': 1, 'play_addr_265': {'width': 720, 'height': 720, 'url_key': 'v0200fa00000bg516oppskdu1cekhk70_h265_540p_662068', 'uri': 'v0200fa00000bg516oppskdu1cekhk70', 'url_list': ['http://v3-dy-z.ixigua.com/ba73dd3a5b1eca43d31950692d0bd61e/5c408be4/video/m/2208b5762a7728a4f5db18170eb2bee40c6116110bea00009229f114b8eb/?rc=M25uZnhuc3I0ajMzM2kzM0ApQHRAbzg4OTozNzYzNDs5NDo0PDNAKXUpQGczdylAZmh1eXExZnNoaGRmOzRANGViLmFwbTMyXy0tXi0vc3MtbyNvIzEzNDMyLS0tLS0tLy4tLi9pOmItbyM6YDBvI3BiZnJoXitqdDojLy5e', 'http://v1-dy.ixigua.com/60be2a454e9b4a58f1f0e5a04612c99a/5c408be4/video/m/2208b5762a7728a4f5db18170eb2bee40c6116110bea00009229f114b8eb/?rc=M25uZnhuc3I0ajMzM2kzM0ApQHRAbzg4OTozNzYzNDs5NDo0PDNAKXUpQGczdylAZmh1eXExZnNoaGRmOzRANGViLmFwbTMyXy0tXi0vc3MtbyNvIzEzNDMyLS0tLS0tLy4tLi9pOmItbyM6YDBvI3BiZnJoXitqdDojLy5e', 'https://aweme.snssdk.com/aweme/v1/play/?video_id=v0200fa00000bg516oppskdu1cekhk70&line=0&ratio=540p&media_type=4&vr_type=0&test_cdn=None&improve_bitrate=0&h265=1', 'https://aweme.snssdk.com/aweme/v1/play/?video_id=v0200fa00000bg516oppskdu1cekhk70&line=1&ratio=540p&media_type=4&vr_type=0&test_cdn=None&improve_bitrate=0&h265=1', 'https://api.amemv.com/aweme/v1/play/?video_id=v0200fa00000bg516oppskdu1cekhk70&line=0&ratio=540p&media_type=4&vr_type=0&test_cdn=None&improve_bitrate=0&h265=1', 'https://api.amemv.com/aweme/v1/play/?video_id=v0200fa00000bg516oppskdu1cekhk70&line=1&ratio=540p&media_type=4&vr_type=0&test_cdn=None&improve_bitrate=0&h265=1']}, 'gear_name': 'normal_540'}, {'is_h265': 0, 'gear_name': 'normal_360', 'quality_type': 40, 'bit_rate': 260538, 'play_addr': {'uri': 'v0200fa00000bg516oppskdu1cekhk70', 'url_list': ['http://v3-dy-z.ixigua.com/d0f1f739447e0567b59c1b484c4c68e0/5c408be4/video/m/22065110fb496bd46ddb62c874c5834ebf111610e7000000b3b4cab9233f/?rc=M25uZnhuc3I0ajMzM2kzM0ApQHRAbzg4OTozNzYzNDs5NDo0PDNAKXUpQGczdylAZmh1eXExZnNoaGRmOzRANGViLmFwbTMyXy0tXi0vc3MtbyNvIzEzNDMyLS0tLS0tLy4tLi9pOmItbyM6YDBvI3BiZnJoXitqdDojLy5e', 'http://v1-dy.ixigua.com/619aa62ccc93547b6b2522fe5a46bdc3/5c408be4/video/m/22065110fb496bd46ddb62c874c5834ebf111610e7000000b3b4cab9233f/?rc=M25uZnhuc3I0ajMzM2kzM0ApQHRAbzg4OTozNzYzNDs5NDo0PDNAKXUpQGczdylAZmh1eXExZnNoaGRmOzRANGViLmFwbTMyXy0tXi0vc3MtbyNvIzEzNDMyLS0tLS0tLy4tLi9pOmItbyM6YDBvI3BiZnJoXitqdDojLy5e', 'https://aweme.snssdk.com/aweme/v1/play/?video_id=v0200fa00000bg516oppskdu1cekhk70&line=0&ratio=360p&media_type=4&vr_type=0&test_cdn=None&improve_bitrate=0', 'https://aweme.snssdk.com/aweme/v1/play/?video_id=v0200fa00000bg516oppskdu1cekhk70&line=1&ratio=360p&media_type=4&vr_type=0&test_cdn=None&improve_bitrate=0', 'https://api.amemv.com/aweme/v1/play/?video_id=v0200fa00000bg516oppskdu1cekhk70&line=0&ratio=360p&media_type=4&vr_type=0&test_cdn=None&improve_bitrate=0', 'https://api.amemv.com/aweme/v1/play/?video_id=v0200fa00000bg516oppskdu1cekhk70&line=1&ratio=360p&media_type=4&vr_type=0&test_cdn=None&improve_bitrate=0'], 'width': 720, 'height': 720, 'url_key': 'v0200fa00000bg516oppskdu1cekhk70_h264_360p_260538'}}], 'play_addr_265': {'uri': 'v0200fa00000bg516oppskdu1cekhk70', 'url_list': ['http://v3-dy-z.ixigua.com/ba73dd3a5b1eca43d31950692d0bd61e/5c408be4/video/m/2208b5762a7728a4f5db18170eb2bee40c6116110bea00009229f114b8eb/?rc=M25uZnhuc3I0ajMzM2kzM0ApQHRAbzg4OTozNzYzNDs5NDo0PDNAKXUpQGczdylAZmh1eXExZnNoaGRmOzRANGViLmFwbTMyXy0tXi0vc3MtbyNvIzEzNDMyLS0tLS0tLy4tLi9pOmItbyM6YDBvI3BiZnJoXitqdDojLy5e', 'http://v1-dy.ixigua.com/60be2a454e9b4a58f1f0e5a04612c99a/5c408be4/video/m/2208b5762a7728a4f5db18170eb2bee40c6116110bea00009229f114b8eb/?rc=M25uZnhuc3I0ajMzM2kzM0ApQHRAbzg4OTozNzYzNDs5NDo0PDNAKXUpQGczdylAZmh1eXExZnNoaGRmOzRANGViLmFwbTMyXy0tXi0vc3MtbyNvIzEzNDMyLS0tLS0tLy4tLi9pOmItbyM6YDBvI3BiZnJoXitqdDojLy5e', 'https://aweme.snssdk.com/aweme/v1/play/?video_id=v0200fa00000bg516oppskdu1cekhk70&line=0&ratio=540p&media_type=4&vr_type=0&test_cdn=None&improve_bitrate=0&h265=1', 'https://aweme.snssdk.com/aweme/v1/play/?video_id=v0200fa00000bg516oppskdu1cekhk70&line=1&ratio=540p&media_type=4&vr_type=0&test_cdn=None&improve_bitrate=0&h265=1', 'https://api.amemv.com/aweme/v1/play/?video_id=v0200fa00000bg516oppskdu1cekhk70&line=0&ratio=540p&media_type=4&vr_type=0&test_cdn=None&improve_bitrate=0&h265=1', 'https://api.amemv.com/aweme/v1/play/?video_id=v0200fa00000bg516oppskdu1cekhk70&line=1&ratio=540p&media_type=4&vr_type=0&test_cdn=None&improve_bitrate=0&h265=1'], 'width': 720, 'height': 720, 'url_key': 'v0200fa00000bg516oppskdu1cekhk70_h265_540p_1050950'}, 'play_addr_h264': {'height': 720, 'url_key': 'v0200fa00000bg516oppskdu1cekhk70_h264_540p_1050950', 'uri': 'v0200fa00000bg516oppskdu1cekhk70', 'url_list': ['https://aweme.snssdk.com/aweme/v1/play/?video_id=v0200fa00000bg516oppskdu1cekhk70&line=0&ratio=540p&media_type=4&vr_type=0&test_cdn=None&improve_bitrate=0', 'https://aweme.snssdk.com/aweme/v1/play/?video_id=v0200fa00000bg516oppskdu1cekhk70&line=1&ratio=540p&media_type=4&vr_type=0&test_cdn=None&improve_bitrate=0', 'https://api.amemv.com/aweme/v1/play/?video_id=v0200fa00000bg516oppskdu1cekhk70&line=0&ratio=540p&media_type=4&vr_type=0&test_cdn=None&improve_bitrate=0', 'https://api.amemv.com/aweme/v1/play/?video_id=v0200fa00000bg516oppskdu1cekhk70&line=1&ratio=540p&media_type=4&vr_type=0&test_cdn=None&improve_bitrate=0'], 'width': 720}, 'cover': {'uri': '12f7d0005251037e3619b', 'url_list': ['https://p3-dy.bytecdn.cn/aweme/300x400/12f7d0005251037e3619b.jpeg', 'https://p9-dy.bytecdn.cn/aweme/300x400/12f7d0005251037e3619b.jpeg', 'https://p1-dy.bytecdn.cn/aweme/300x400/12f7d0005251037e3619b.jpeg'], 'width': 720, 'height': 720}, 'dynamic_cover': {'height': 720, 'uri': '12f790009102fee0339c5', 'url_list': ['https://p3-dy.bytecdn.cn/obj/12f790009102fee0339c5', 'https://p9-dy.bytecdn.cn/obj/12f790009102fee0339c5', 'https://p1-dy.bytecdn.cn/obj/12f790009102fee0339c5'], 'width': 720}, 'download_addr': {'uri': 'v0200fa00000bg516oppskdu1cekhk70', 'url_list': ['https://aweme.snssdk.com/aweme/v1/play/?video_id=v0200fa00000bg516oppskdu1cekhk70&line=0&ratio=540p&watermark=1&media_type=4&vr_type=0&test_cdn=None&improve_bitrate=0&logo_name=aweme', 'https://aweme.snssdk.com/aweme/v1/play/?video_id=v0200fa00000bg516oppskdu1cekhk70&line=1&ratio=540p&watermark=1&media_type=4&vr_type=0&test_cdn=None&improve_bitrate=0&logo_name=aweme', 'https://api.amemv.com/aweme/v1/play/?video_id=v0200fa00000bg516oppskdu1cekhk70&line=0&ratio=540p&watermark=1&media_type=4&vr_type=0&test_cdn=None&improve_bitrate=0&logo_name=aweme', 'https://api.amemv.com/aweme/v1/play/?video_id=v0200fa00000bg516oppskdu1cekhk70&line=1&ratio=540p&watermark=1&media_type=4&vr_type=0&test_cdn=None&improve_bitrate=0&logo_name=aweme'], 'width': 720, 'height': 720}, 'download_suffix_logo_addr': {'height': 720, 'uri': 'v0200fa00000bg516oppskdu1cekhk70', 'url_list': ['https://aweme.snssdk.com/aweme/v1/play/?video_id=v0200fa00000bg516oppskdu1cekhk70&line=0&ratio=540p&watermark=1&media_type=4&vr_type=0&test_cdn=None&improve_bitrate=0&logo_name=aweme_suffix', 'https://aweme.snssdk.com/aweme/v1/play/?video_id=v0200fa00000bg516oppskdu1cekhk70&line=1&ratio=540p&watermark=1&media_type=4&vr_type=0&test_cdn=None&improve_bitrate=0&logo_name=aweme_suffix', 'https://api.amemv.com/aweme/v1/play/?video_id=v0200fa00000bg516oppskdu1cekhk70&line=0&ratio=540p&watermark=1&media_type=4&vr_type=0&test_cdn=None&improve_bitrate=0&logo_name=aweme_suffix', 'https://api.amemv.com/aweme/v1/play/?video_id=v0200fa00000bg516oppskdu1cekhk70&line=1&ratio=540p&watermark=1&media_type=4&vr_type=0&test_cdn=None&improve_bitrate=0&logo_name=aweme_suffix'], 'width': 720}, 'ratio': '540p', 'duration': 20120, 'is_h265': 0, 'play_addr': {'url_list': ['http://v3-dy-z.ixigua.com/c6714964ef1dabe8389bc9c4f33a0c1c/5c408be4/video/m/2208d901a571ea945e8a6d4b771f70b964f11610ffcc0000b25c031668ba/?rc=M25uZnhuc3I0ajMzM2kzM0ApQHRAbzg4OTozNzYzNDs5NDo0PDNAKXUpQGczdylAZmh1eXExZnNoaGRmOzRANGViLmFwbTMyXy0tXi0vc3MtbyNvIzEzNDMyLS0tLS0tLy4tLi9pOmItbyM6YDBvI3BiZnJoXitqdDojLy5e', 'http://v1-dy.ixigua.com/13c9391b8efc4a11d0fcbe5e18aa1f63/5c408be4/video/m/2208d901a571ea945e8a6d4b771f70b964f11610ffcc0000b25c031668ba/?rc=M25uZnhuc3I0ajMzM2kzM0ApQHRAbzg4OTozNzYzNDs5NDo0PDNAKXUpQGczdylAZmh1eXExZnNoaGRmOzRANGViLmFwbTMyXy0tXi0vc3MtbyNvIzEzNDMyLS0tLS0tLy4tLi9pOmItbyM6YDBvI3BiZnJoXitqdDojLy5e', 'https://aweme.snssdk.com/aweme/v1/play/?video_id=v0200fa00000bg516oppskdu1cekhk70&line=0&ratio=540p&media_type=4&vr_type=0&test_cdn=None&improve_bitrate=0', 'https://aweme.snssdk.com/aweme/v1/play/?video_id=v0200fa00000bg516oppskdu1cekhk70&line=1&ratio=540p&media_type=4&vr_type=0&test_cdn=None&improve_bitrate=0', 'https://api.amemv.com/aweme/v1/play/?video_id=v0200fa00000bg516oppskdu1cekhk70&line=0&ratio=540p&media_type=4&vr_type=0&test_cdn=None&improve_bitrate=0', 'https://api.amemv.com/aweme/v1/play/?video_id=v0200fa00000bg516oppskdu1cekhk70&line=1&ratio=540p&media_type=4&vr_type=0&test_cdn=None&improve_bitrate=0'], 'width': 720, 'height': 720, 'url_key': 'v0200fa00000bg516oppskdu1cekhk70_h264_540p_1050950', 'uri': 'v0200fa00000bg516oppskdu1cekhk70'}, 'height': 1280, 'origin_cover': {'width': 720, 'height': 720, 'uri': 'large/12fa3000b50d1cb7efcb9', 'url_list': ['http://p9-dy.bytecdn.cn/large/12fa3000b50d1cb7efcb9.jpeg', 'http://p1-dy.bytecdn.cn/large/12fa3000b50d1cb7efcb9.jpeg', 'http://p3-dy.bytecdn.cn/large/12fa3000b50d1cb7efcb9.jpeg']}, 'has_watermark': True, 'play_addr_lowbr': {'url_key': 'v0200fa00000bg516oppskdu1cekhk70_h264_540p_1050950', 'uri': 'v0200fa00000bg516oppskdu1cekhk70', 'url_list': ['http://v3-dy-z.ixigua.com/c6714964ef1dabe8389bc9c4f33a0c1c/5c408be4/video/m/2208d901a571ea945e8a6d4b771f70b964f11610ffcc0000b25c031668ba/?rc=M25uZnhuc3I0ajMzM2kzM0ApQHRAbzg4OTozNzYzNDs5NDo0PDNAKXUpQGczdylAZmh1eXExZnNoaGRmOzRANGViLmFwbTMyXy0tXi0vc3MtbyNvIzEzNDMyLS0tLS0tLy4tLi9pOmItbyM6YDBvI3BiZnJoXitqdDojLy5e', 'http://v1-dy.ixigua.com/13c9391b8efc4a11d0fcbe5e18aa1f63/5c408be4/video/m/2208d901a571ea945e8a6d4b771f70b964f11610ffcc0000b25c031668ba/?rc=M25uZnhuc3I0ajMzM2kzM0ApQHRAbzg4OTozNzYzNDs5NDo0PDNAKXUpQGczdylAZmh1eXExZnNoaGRmOzRANGViLmFwbTMyXy0tXi0vc3MtbyNvIzEzNDMyLS0tLS0tLy4tLi9pOmItbyM6YDBvI3BiZnJoXitqdDojLy5e', 'https://aweme.snssdk.com/aweme/v1/play/?video_id=v0200fa00000bg516oppskdu1cekhk70&line=0&ratio=540p&media_type=4&vr_type=0&test_cdn=None&improve_bitrate=0', 'https://aweme.snssdk.com/aweme/v1/play/?video_id=v0200fa00000bg516oppskdu1cekhk70&line=1&ratio=540p&media_type=4&vr_type=0&test_cdn=None&improve_bitrate=0', 'https://api.amemv.com/aweme/v1/play/?video_id=v0200fa00000bg516oppskdu1cekhk70&line=0&ratio=540p&media_type=4&vr_type=0&test_cdn=None&improve_bitrate=0', 'https://api.amemv.com/aweme/v1/play/?video_id=v0200fa00000bg516oppskdu1cekhk70&line=1&ratio=540p&media_type=4&vr_type=0&test_cdn=None&improve_bitrate=0'], 'width': 720, 'height': 720}, 'has_download_suffix_logo_addr': True}, 'distance': '', 'duration': 20120, 'aweme_type': 0, 'bodydance_score': 0, 'item_comment_settings': 0, 'desc': '#圣诞抖抖舞  穿上大红衣 送你小发发@DOU Lab抖音实验室', 'music': {'user_count': 0, 'is_original': False, 'unshelve_countries': None, 'end_time': 0, 'album': 'DOU Lab抖音实验室', 'extra': '{\"has_edited\":0}', 'position': None, 'collect_stat': 0, 'owner_id': '104752148016', 'owner_handle': 'DOULab', 'title': '@DOU Lab抖音实验室创作的原声', 'play_url': {'uri': 'http://p3.pstatp.com/obj/140cd0005d526be01d013', 'url_list': ['http://p3.pstatp.com/obj/140cd0005d526be01d013'], 'width': 720, 'height': 720}, 'audio_track': {'url_list': ['http://p3.pstatp.com/obj/f8c900106cb04aa64d61'], 'width': 720, 'height': 720, 'uri': 'http://p3.pstatp.com/obj/f8c900106cb04aa64d61'}, 'binded_challenge_id': 0, 'redirect': False, 'author_position': None, 'cover_large': {'uri': 'f748000719e697286b1d', 'url_list': ['https://p3-dy.bytecdn.cn/aweme/1080x1080/f748000719e697286b1d.jpeg', 'https://p1-dy.bytecdn.cn/aweme/1080x1080/f748000719e697286b1d.jpeg', 'https://p9-dy.bytecdn.cn/aweme/1080x1080/f748000719e697286b1d.jpeg'], 'width': 720, 'height': 720}, 'owner_nickname': 'DOU Lab抖音实验室', 'source_platform': 23, 'author': 'DOU Lab抖音实验室', 'schema_url': '', 'external_song_info': None, 'id_str': '6631038253908626189', 'duration': 20, 'cover_medium': {'width': 720, 'height': 720, 'uri': 'f748000719e697286b1d', 'url_list': ['https://p3-dy.bytecdn.cn/aweme/720x720/f748000719e697286b1d.jpeg', 'https://p9-dy.bytecdn.cn/aweme/720x720/f748000719e697286b1d.jpeg', 'https://p1-dy.bytecdn.cn/aweme/720x720/f748000719e697286b1d.jpeg']}, 'cover_thumb': {'uri': 'f748000719e697286b1d', 'url_list': ['https://p9-dy.bytecdn.cn/aweme/100x100/f748000719e697286b1d.jpeg', 'https://p3-dy.bytecdn.cn/aweme/100x100/f748000719e697286b1d.jpeg', 'https://p1-dy.bytecdn.cn/aweme/100x100/f748000719e697286b1d.jpeg'], 'width': 720, 'height': 720}, 'start_time': 0, 'offline_desc': '', 'effects_data': {'uri': 'http://p3.pstatp.com/obj/f87e000d555e3cdbc1c4', 'url_list': ['http://p3.pstatp.com/obj/f87e000d555e3cdbc1c4'], 'width': 720, 'height': 720}, 'mid': '6631038253908626189', 'is_restricted': False, 'cover_hd': {'url_list': ['https://p3-dy.bytecdn.cn/aweme/1080x1080/f748000719e697286b1d.jpeg', 'https://p1-dy.bytecdn.cn/aweme/1080x1080/f748000719e697286b1d.jpeg', 'https://p9-dy.bytecdn.cn/aweme/1080x1080/f748000719e697286b1d.jpeg'], 'width': 720, 'height': 720, 'uri': 'f748000719e697286b1d'}, 'is_del_video': False, 'author_deleted': False, 'status': 1, 'is_video_self_see': False, 'prevent_download': False, 'id': 6631038253908626189}, 'share_url': 'https://www.iesdouyin.com/share/video/6632134742290468100/?region=HK&mid=6631038253908626189&u_code=i4h05b49&titleType=title', 'statistics': {'digg_count': 191, 'play_count': 0, 'share_count': 3, 'forward_count': 0, 'aweme_id': '6632134742290468100', 'comment_count': 10}, 'rate': 12, 'share_info': {'share_desc': '在抖音，记录美好生活', 'share_title': '#圣诞抖抖舞  穿上大红衣 送你小发发@DOU Lab抖音实验室', 'share_title_myself': '', 'share_title_other': '', 'share_link_desc': '#在抖音，记录美好生活##圣诞抖抖舞  穿上大红衣 送你小发发@DOU Lab抖音实验室 %s 复制此链接，打开【抖音短视频】，直接观看视频！', 'share_signature_url': 'https://tiktokv.com/', 'share_url': 'https://www.iesdouyin.com/share/video/6632134742290468100/?region=HK&mid=6631038253908626189&u_code=i4h05b49&titleType=title', 'share_weibo_desc': '#在抖音，记录美好生活##圣诞抖抖舞  穿上大红衣 送你小发发@DOU Lab抖音实验室', 'share_signature_desc': 'TikTok: Make Every Second Count', 'bool_persist': 0, 'share_quote': ''}, 'author_user_id': 73961516291, 'is_hash_tag': 1, 'collect_stat': 0, 'challenge_position': None, 'xigua_task': {'is_xigua_task': False}, 'with_promotional_music': False, 'cha_list': [{'desc': '抖音原创品牌——DOU Lab抖音实验室圣诞款限量卫衣已开售。12月5日至12月11日12时，添加话题#圣诞抖抖舞 并@DOU Lab抖音实验室，battle不齐舞团，参与圣诞抖抖舞挑战。点赞数最高的前二十名用户即可免费获得DOU Lab圣诞款限量卫衣一件，与我们一起解锁超夯圣诞惊喜。开奖日期2018年12月11日。', 'schema': 'aweme://aweme/challenge/detail?cid=1618812417390600', 'author': {'cover_url': None, 'new_story_cover': None, 'type_label': None, 'platform_sync_info': None, 'geofencing': None, 'policy_version': None, 'item_list': None, 'ad_cover_url': None, 'followers_detail': None}, 'user_count': 0, 'connect_music': [], 'sub_type': 0, 'is_pgcshow': False, 'cid': '1618812417390600', 'cha_name': '圣诞抖抖舞', 'share_info': {'share_desc': '抖音原创品牌——DOU Lab抖音实验室圣诞款限量卫衣已开售。12月5日至12月11日12时，添加话题#圣诞抖抖舞 并@DOU Lab抖音实验室，battle不齐舞团，参与圣诞抖抖舞挑战。点赞数最高的前二十名用户即可免费获得DOU Lab圣诞款限量卫衣一件，与我们一起解锁超夯圣诞惊喜。开奖日期2018年12月11日。', 'bool_persist': 0, 'share_signature_desc': 'TikTok: Make Every Second Count', 'share_signature_url': 'https://tiktokv.com/', 'share_quote': '', 'share_url': 'https://www.iesdouyin.com/share/challenge/1618812417390600/?u_code=i4h05b49', 'share_weibo_desc': '我在抖音参加#圣诞抖抖舞，超多有趣音乐短视频！赶快来玩！戳这里>>', 'share_title': '我在抖音参加#圣诞抖抖舞，超多有趣音乐短视频！赶快来玩！戳这里>>', 'share_title_myself': '', 'share_title_other': ''}, 'type': 0, 'collect_stat': 0, 'is_challenge': 0}], 'is_top': 0, 'image_infos': None, 'is_relieve': False, 'uniqid_position': None, 'region': 'CN'}], 'extra': {'logid': '20190117210608010003045067766545', 'fatal_item_ids': [], 'now': 1547730368000}}\n"
     ]
    },
    {
     "name": "stdout",
     "output_type": "stream",
     "text": [
      "Sign str: iid=58047496540&idfa=EC23EEB2-EE2B-33B5-6BDC-FF41BDDBB394&vid=4C4921CA-81AD-329B-CC84-ACAA1CE6DB89&device_id=61988490293&openudid=1ff6acbeffb319d74f09b0b7ab8f10cf1cac6815&device_type=iPhone8,1&os_version=11.0&os_api=18&screen_width=750&device_platform=iphone&version_code=2.7.0&channel=App%20Stroe&app_name=aweme&build_number=27014&app_version=2.7.0&aid=1128&ac=WIFI&aweme_id=6632134742290468100\n"
     ]
    },
    {
     "name": "stderr",
     "output_type": "stream",
     "text": [
      "/usr/local/lib/python3.7/site-packages/urllib3/connectionpool.py:847: InsecureRequestWarning: Unverified HTTPS request is being made. Adding certificate verification is strongly advised. See: https://urllib3.readthedocs.io/en/latest/advanced-usage.html#ssl-warnings\n",
      "  InsecureRequestWarning)\n",
      "/usr/local/lib/python3.7/site-packages/urllib3/connectionpool.py:847: InsecureRequestWarning: Unverified HTTPS request is being made. Adding certificate verification is strongly advised. See: https://urllib3.readthedocs.io/en/latest/advanced-usage.html#ssl-warnings\n",
      "  InsecureRequestWarning)\n"
     ]
    },
    {
     "name": "stdout",
     "output_type": "stream",
     "text": [
      "downloading video and music kuokuo_73961516291_#圣诞抖抖舞  穿上大红衣 送你小发发@DOU Lab抖音实验室 \n",
      "Crawling from page #2...\n",
      "Sign str: count=21&user_id=73961516291&max_cursor=1528641103000&iid=58047535618&idfa=D1C9B051-BB3C-DFFF-69CA-60AAA36BC32D&vid=C5B83A68-A76D-C054-F8C7-EE3F27B8B2FC&device_id=61988507072&openudid=bc1204aafeee92b528b223edf43e7e73c8c53604&device_type=iPhone8,1&os_version=11.0&os_api=18&screen_width=750&device_platform=iphone&version_code=2.7.0&channel=App%20Stroe&app_name=aweme&build_number=27014&app_version=2.7.0&aid=1128&ac=WIFI\n",
      "Query Params:  {'count': '21', 'user_id': '73961516291', 'max_cursor': 1528641103000, 'iid': 58047535618, 'idfa': 'D1C9B051-BB3C-DFFF-69CA-60AAA36BC32D', 'vid': 'C5B83A68-A76D-C054-F8C7-EE3F27B8B2FC', 'device_id': 61988507072, 'openudid': 'bc1204aafeee92b528b223edf43e7e73c8c53604', 'device_type': 'iPhone8,1', 'os_version': '11.0', 'os_api': '18', 'screen_width': '750', 'device_platform': 'iphone', 'version_code': '2.7.0', 'channel': 'App%20Stroe', 'app_name': 'aweme', 'build_number': '27014', 'app_version': '2.7.0', 'aid': '1128', 'ac': 'WIFI', 'mas': '0199a5ceec12ecd9990b1abe46f12fe7a1d4f905d04e09652d2eb8', 'as': 'a1a5a7241efc7c6d802407', 'ts': '1547730382'}\n",
      "Returned INFO:  {'aweme_list': [], 'extra': {'now': 1547730383000, 'logid': '20190117210623010017040074115FBA', 'fatal_item_ids': []}, 'log_pb': {'impr_id': '20190117210623010017040074115FBA'}, 'status_code': 0, 'min_cursor': 1528617438000, 'max_cursor': 1518947459000, 'has_more': 0}\n"
     ]
    },
    {
     "name": "stderr",
     "output_type": "stream",
     "text": [
      "/usr/local/lib/python3.7/site-packages/urllib3/connectionpool.py:847: InsecureRequestWarning: Unverified HTTPS request is being made. Adding certificate verification is strongly advised. See: https://urllib3.readthedocs.io/en/latest/advanced-usage.html#ssl-warnings\n",
      "  InsecureRequestWarning)\n"
     ]
    }
   ],
   "source": [
    "user_id = \"73961516291\"#\"267351542\" # Noted that user id must be got from \"Charles\" \n",
    "                                    # (under \"https://aweme.snssdk.com/post/author_user_id\") in the meanwhile\n",
    "                                    #  entering the user's main page using your mobile phone.\n",
    "grab_video_main(user_id)"
   ]
  },
  {
   "cell_type": "code",
   "execution_count": null,
   "metadata": {},
   "outputs": [],
   "source": []
  }
 ],
 "metadata": {
  "kernelspec": {
   "display_name": "Python 3",
   "language": "python",
   "name": "python3"
  },
  "language_info": {
   "codemirror_mode": {
    "name": "ipython",
    "version": 3
   },
   "file_extension": ".py",
   "mimetype": "text/x-python",
   "name": "python",
   "nbconvert_exporter": "python",
   "pygments_lexer": "ipython3",
   "version": "3.7.2"
  }
 },
 "nbformat": 4,
 "nbformat_minor": 2
}
