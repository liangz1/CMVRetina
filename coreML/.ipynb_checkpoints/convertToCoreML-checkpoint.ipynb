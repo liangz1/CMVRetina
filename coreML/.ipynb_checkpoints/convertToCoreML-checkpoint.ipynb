{
 "cells": [
  {
   "cell_type": "code",
   "execution_count": null,
   "metadata": {},
   "outputs": [
    {
     "name": "stdout",
     "output_type": "stream",
     "text": [
      "0 : input_8, <keras.engine.input_layer.InputLayer object at 0x196f2e050>\n",
      "1 : conv2d_659, <keras.layers.convolutional.Conv2D object at 0x196f2ecd0>\n",
      "2 : batch_normalization_659, <keras.layers.normalization.BatchNormalization object at 0x196f2e850>\n",
      "3 : activation_680, <keras.layers.core.Activation object at 0x17ca0d090>\n",
      "4 : conv2d_660, <keras.layers.convolutional.Conv2D object at 0x196f2efd0>\n",
      "5 : batch_normalization_660, <keras.layers.normalization.BatchNormalization object at 0x196f2e9d0>\n",
      "6 : activation_681, <keras.layers.core.Activation object at 0x1883fde10>\n",
      "7 : conv2d_661, <keras.layers.convolutional.Conv2D object at 0x13ed20ed0>\n",
      "8 : batch_normalization_661, <keras.layers.normalization.BatchNormalization object at 0x13ed41490>\n",
      "9 : activation_682, <keras.layers.core.Activation object at 0x13ed41290>\n",
      "10 : max_pooling2d_29, <keras.layers.pooling.MaxPooling2D object at 0x14be18d10>\n",
      "11 : conv2d_662, <keras.layers.convolutional.Conv2D object at 0x14be334d0>\n",
      "12 : batch_normalization_662, <keras.layers.normalization.BatchNormalization object at 0x14bf50b10>\n",
      "13 : activation_683, <keras.layers.core.Activation object at 0x14bf7de50>\n",
      "14 : conv2d_663, <keras.layers.convolutional.Conv2D object at 0x169370d10>\n"
     ]
    }
   ],
   "source": [
    "import keras\n",
    "from keras.models import Model\n",
    "from keras.applications.inception_v3 import InceptionV3\n",
    "from keras.layers import Dense, GlobalAveragePooling2D, Input\n",
    "import tensorflow as tf\n",
    "import coremltools\n",
    "from keras.models import load_model\n",
    "\n",
    "input_tensor = Input(shape=(224, 224, 3))\n",
    "base_model = InceptionV3(input_tensor=input_tensor, weights='imagenet', include_top=False)\n",
    "x = base_model.output\n",
    "x = GlobalAveragePooling2D()(x)\n",
    "x = Dense(50, activation='relu')(x)\n",
    "# x = Dropout(0.5)(x)\n",
    "x = Dense(50, activation='relu')(x)\n",
    "# x = Dropout(0.5)(x)\n",
    "output_dim = 2\n",
    "predictions = Dense(output_dim, activation='softmax')(x)\n",
    "model = Model(inputs=base_model.input, outputs=predictions)\n",
    "model.load_weights('inception_v3_50_50_13_best_f1.h5')\n",
    "\n",
    "core_ml=coremltools.converters.keras.convert(model, input_names='image', \\\n",
    "                                             output_names='classLabelProbs', \\\n",
    "                                             image_input_names='image', \\\n",
    "                                             class_labels=['negative','positive'], \\\n",
    "                                             predicted_feature_name='classLabel', \\\n",
    "                                             is_bgr=True)\n",
    "core_ml.save('coreml_model.mlmodel')"
   ]
  },
  {
   "cell_type": "code",
   "execution_count": null,
   "metadata": {},
   "outputs": [],
   "source": []
  }
 ],
 "metadata": {
  "kernelspec": {
   "display_name": "Python 3",
   "language": "python",
   "name": "python3"
  },
  "language_info": {
   "codemirror_mode": {
    "name": "ipython",
    "version": 2
   },
   "file_extension": ".py",
   "mimetype": "text/x-python",
   "name": "python",
   "nbconvert_exporter": "python",
   "pygments_lexer": "ipython2",
   "version": "2.7.15"
  }
 },
 "nbformat": 4,
 "nbformat_minor": 2
}
